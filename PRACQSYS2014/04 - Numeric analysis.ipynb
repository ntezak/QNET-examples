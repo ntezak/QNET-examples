{
 "metadata": {
  "name": "",
  "signature": "sha256:be101b7f83f716ea1b13ed89049260e90091dbc1bd2c77f7037613617d01d9d1"
 },
 "nbformat": 3,
 "nbformat_minor": 0,
 "worksheets": [
  {
   "cells": [
    {
     "cell_type": "code",
     "collapsed": false,
     "input": [
      "%pylab inline"
     ],
     "language": "python",
     "metadata": {},
     "outputs": []
    },
    {
     "cell_type": "code",
     "collapsed": false,
     "input": [
      "from qnet.algebra.circuit_algebra import *\n",
      "import qutip\n",
      "import sympy; sympy.init_printing()"
     ],
     "language": "python",
     "metadata": {},
     "outputs": []
    },
    {
     "cell_type": "heading",
     "level": 1,
     "metadata": {},
     "source": [
      "We will now construct an SLH model from scratch"
     ]
    },
    {
     "cell_type": "code",
     "collapsed": false,
     "input": [
      "a = Destroy(1)\n",
      "kappa = symbols(\"kappa\", positive=True)\n",
      "Delta, chi = symbols(\"Delta, chi\", real=True)\n",
      "epsilon = symbols(\"epsilon\")\n",
      "\n",
      "H = Delta * a.dag() * a + chi/2 * (a * a).dag() * a * a\n",
      "L = [sqrt(kappa) * a]\n",
      "S = identity_matrix(1)\n",
      "\n",
      "slh = SLH(S, L, H).coherent_input(epsilon)\n",
      "slh"
     ],
     "language": "python",
     "metadata": {},
     "outputs": []
    },
    {
     "cell_type": "code",
     "collapsed": false,
     "input": [
      "a_eom = slh.symbolic_heisenberg_eom(a, noises=[OperatorSymbol(\"dB/dt\", \"n1\")]).expand().simplify_scalar()\n",
      "a_eom"
     ],
     "language": "python",
     "metadata": {},
     "outputs": []
    },
    {
     "cell_type": "code",
     "collapsed": false,
     "input": [
      "n = symbols(\"n\", positive=True)\n",
      "a_eom_disp = a_eom.substitute({\n",
      "    a: a + sqrt(n),\n",
      "    a.dag(): a.dag() + sqrt(n)\n",
      "}).expand().simplify_scalar()\n",
      "a_eom_disp"
     ],
     "language": "python",
     "metadata": {},
     "outputs": []
    },
    {
     "cell_type": "code",
     "collapsed": false,
     "input": [
      "zeroth_order = a_eom_disp.operands[0].operands[0]\n",
      "zeroth_order"
     ],
     "language": "python",
     "metadata": {},
     "outputs": []
    },
    {
     "cell_type": "code",
     "collapsed": false,
     "input": [
      "eps_sol = sympy.solve(zeroth_order, epsilon)[0]\n",
      "eps_sol"
     ],
     "language": "python",
     "metadata": {},
     "outputs": []
    },
    {
     "cell_type": "heading",
     "level": 2,
     "metadata": {},
     "source": [
      "Convert to numerical representation"
     ]
    },
    {
     "cell_type": "code",
     "collapsed": false,
     "input": [
      "params = {\n",
      "    kappa: 1.,\n",
      "    chi: -.25,\n",
      "    Delta: 1.5,\n",
      "    n: 7.22,\n",
      "}\n",
      "a.space.dimension = 40\n",
      "\n",
      "Hq, Lqs = slh.substitute({epsilon: eps_sol}).substitute(params).HL_to_qutip()"
     ],
     "language": "python",
     "metadata": {},
     "outputs": []
    },
    {
     "cell_type": "heading",
     "level": 2,
     "metadata": {},
     "source": [
      "find steady state"
     ]
    },
    {
     "cell_type": "code",
     "collapsed": false,
     "input": [
      "# %timeit qutip.steadystate(Hq, Lqs)\n",
      "rhoss = qutip.steadystate(Hq, Lqs, use_umfpack=False)"
     ],
     "language": "python",
     "metadata": {},
     "outputs": []
    },
    {
     "cell_type": "code",
     "collapsed": false,
     "input": [
      "xs = linspace(-6, 6, 101)\n",
      "ys = linspace(-4, 4, 101)\n",
      "qf = qutip.qfunc(rhoss, xs, ys, g=2.)\n",
      "axes(aspect=1)\n",
      "pcolor(xs, ys, qf)"
     ],
     "language": "python",
     "metadata": {},
     "outputs": []
    },
    {
     "cell_type": "heading",
     "level": 2,
     "metadata": {},
     "source": [
      "Stability analysis of linearized model"
     ]
    },
    {
     "cell_type": "code",
     "collapsed": false,
     "input": [
      "from qnet.misc.kerr_model_matrices import get_coeffs\n",
      "a_c = get_coeffs(a_eom_disp)\n",
      "a_c"
     ],
     "language": "python",
     "metadata": {},
     "outputs": []
    },
    {
     "cell_type": "heading",
     "level": 3,
     "metadata": {},
     "source": [
      "Compute A-matrix symbolically for system linearized as $a=\\sqrt{n} + \\delta a$"
     ]
    },
    {
     "cell_type": "code",
     "collapsed": false,
     "input": [
      "A_double_up = [[a_c[a], a_c[a.dag()]],[conjugate(a_c[a.dag()]), conjugate(a_c[a])]]\n",
      "A_double_up"
     ],
     "language": "python",
     "metadata": {},
     "outputs": []
    },
    {
     "cell_type": "code",
     "collapsed": false,
     "input": [
      "A_fn = sympy.lambdify((kappa, Delta, chi, n), A_double_up, modules=\"numpy\")\n",
      "A_fn_arr = lambda *args: np.asarray(A_fn(*args))"
     ],
     "language": "python",
     "metadata": {},
     "outputs": []
    },
    {
     "cell_type": "code",
     "collapsed": false,
     "input": [
      "eps_sol_fn = sympy.lambdify((kappa, Delta, chi, n), eps_sol, modules=[\"numpy\"])\n",
      "\n",
      "def plot_input_output(nmax=10., kappa_n=1., Delta_n = 1.5, chi_n = -.2):\n",
      "    ns = linspace(0, nmax)\n",
      "    beta_ns = eps_sol_fn(kappa_n, Delta_n, chi_n, ns)\n",
      "    stability = np.asarray([max(real(eigvals(A_fn_arr(kappa_n, Delta_n, chi_n, nn))))<0. for nn in ns])\n",
      "    plot(abs(array(beta_ns[stability]))**2, ns[stability], \"gx\")\n",
      "    plot(abs(array(beta_ns[~stability]))**2, ns[~stability], \"rx\")\n",
      "    xlabel(r\"Bias drive strength $|\\epsilon|^2$\", size=16)\n",
      "    ylabel(\"Intra cavity photon number $n$\", size=16)\n",
      "    title(\"Photon number vs. drive and stability\", size=18)\n",
      "    legend([\"stable\", \"unstable\"])\n",
      "\n",
      "from IPython.html.widgets import interact\n",
      "\n",
      "ipio = interact(plot_input_output, \n",
      "         nmax=(1., 100., 1.),\n",
      "         kappa_n=(1., 10., 1.),\n",
      "         chi_n=(-.5, .5, .005),\n",
      "         Delta_n=(-5., 5.,.1))"
     ],
     "language": "python",
     "metadata": {},
     "outputs": []
    },
    {
     "cell_type": "heading",
     "level": 2,
     "metadata": {},
     "source": [
      "Quantum Trajectory simulation"
     ]
    },
    {
     "cell_type": "code",
     "collapsed": false,
     "input": [
      "#observables:\n",
      "obs = [a.dag()*a]\n",
      "obsq = [o.to_qutip() for o in obs]"
     ],
     "language": "python",
     "metadata": {},
     "outputs": []
    },
    {
     "cell_type": "code",
     "collapsed": false,
     "input": [
      "# start in vacuum\n",
      "\n",
      "psi0 = qutip.coherent(a.space.dimension, np.sqrt(params[n]))\n",
      "tlist = linspace(0., 100., 501)\n",
      "mcdata = qutip.mcsolve(Hq, psi0, tlist, Lqs, obsq, ntraj=20, options=qutip.solver.Options(average_expect=False))\n",
      "# medata = qutip.mesolve(Hq, psi0, tlist, Lqs, obsq)"
     ],
     "language": "python",
     "metadata": {},
     "outputs": []
    },
    {
     "cell_type": "code",
     "collapsed": false,
     "input": [
      "plot(tlist, asarray(mcdata.expect)[:,0,:].T, \"k\", alpha=.1);"
     ],
     "language": "python",
     "metadata": {},
     "outputs": []
    },
    {
     "cell_type": "code",
     "collapsed": false,
     "input": [
      "from qutip.ipynbtools import version_table\n",
      "\n",
      "version_table()"
     ],
     "language": "python",
     "metadata": {},
     "outputs": []
    },
    {
     "cell_type": "code",
     "collapsed": false,
     "input": [],
     "language": "python",
     "metadata": {},
     "outputs": []
    }
   ],
   "metadata": {}
  }
 ]
}
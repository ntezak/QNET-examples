{
 "metadata": {
  "name": "",
  "signature": "sha256:2602f9f0b707db47d7fd236ee5d57cf30ee8f7e3dcebd45137bdb15bd3e35300"
 },
 "nbformat": 3,
 "nbformat_minor": 0,
 "worksheets": [
  {
   "cells": [
    {
     "cell_type": "code",
     "collapsed": false,
     "input": [
      "%pylab inline"
     ],
     "language": "python",
     "metadata": {},
     "outputs": [
      {
       "output_type": "stream",
       "stream": "stdout",
       "text": [
        "Populating the interactive namespace from numpy and matplotlib\n"
       ]
      }
     ],
     "prompt_number": 1
    },
    {
     "cell_type": "code",
     "collapsed": false,
     "input": [
      "from qnet.algebra.operator_algebra import LocalSigma\n",
      "from qnet.algebra.circuit_algebra import *"
     ],
     "language": "python",
     "metadata": {},
     "outputs": [],
     "prompt_number": 2
    },
    {
     "cell_type": "code",
     "collapsed": false,
     "input": [
      "a = Destroy(1)\n",
      "sigma = LocalSigma(2, \"g\", \"e\")\n"
     ],
     "language": "python",
     "metadata": {},
     "outputs": [],
     "prompt_number": 3
    },
    {
     "cell_type": "code",
     "collapsed": false,
     "input": [
      "sigma"
     ],
     "language": "python",
     "metadata": {},
     "outputs": [
      {
       "latex": [
        "${\\sigma_{{\\rm g},{\\rm e}}^{{{\\rm 2}}}}$"
       ],
       "metadata": {},
       "output_type": "pyout",
       "prompt_number": 4,
       "text": [
        "LocalSigma(LocalSpace('2', ''), 'g', 'e')"
       ]
      }
     ],
     "prompt_number": 4
    },
    {
     "cell_type": "code",
     "collapsed": false,
     "input": [
      "Delta_tls, Delta_cav, g, chi = symbols(\"Delta_tls, Delta_cav, g, chi\", real=True)\n",
      "kappa, gamma = symbols(\"kappa, gamma\", positive=True)\n",
      "\n",
      "H = (Delta_cav * a.dag() * a \n",
      "     + chi * a.dag() * a.dag() * a * a\n",
      "     + Delta_tls * sigma.dag() * sigma \n",
      "     + I*g*(a.dag() * sigma - a * sigma.dag()))\n",
      "H"
     ],
     "language": "python",
     "metadata": {},
     "outputs": [
      {
       "latex": [
        "$ \\Delta_{tls} {\\Pi_{{\\rm e}}^{{{\\rm 2}}}} +  i g \\left({a_{{{\\rm 1}}}^\\dagger} {\\sigma_{{\\rm g},{\\rm e}}^{{{\\rm 2}}}} - {a_{{{\\rm 1}}}} {\\sigma_{{\\rm e},{\\rm g}}^{{{\\rm 2}}}}\\right) +  \\chi {a_{{{\\rm 1}}}^\\dagger} {a_{{{\\rm 1}}}^\\dagger} {a_{{{\\rm 1}}}} {a_{{{\\rm 1}}}} +  \\Delta_{cav} {a_{{{\\rm 1}}}^\\dagger} {a_{{{\\rm 1}}}}$"
       ],
       "metadata": {},
       "output_type": "pyout",
       "prompt_number": 5,
       "text": [
        "OperatorPlus(ScalarTimesOperator(Delta_tls, LocalSigma(LocalSpace('2', ''), 'e', 'e')), ScalarTimesOperator(I*g, OperatorPlus(OperatorTimes(Create(LocalSpace('1', '')), LocalSigma(LocalSpace('2', ''), 'g', 'e')), ScalarTimesOperator(-1, OperatorTimes(Destroy(LocalSpace('1', '')), LocalSigma(LocalSpace('2', ''), 'e', 'g'))))), ScalarTimesOperator(chi, OperatorTimes(Create(LocalSpace('1', '')), Create(LocalSpace('1', '')), Destroy(LocalSpace('1', '')), Destroy(LocalSpace('1', '')))), ScalarTimesOperator(Delta_cav, OperatorTimes(Create(LocalSpace('1', '')), Destroy(LocalSpace('1', '')))))"
       ]
      }
     ],
     "prompt_number": 5
    },
    {
     "cell_type": "code",
     "collapsed": false,
     "input": [
      "params = {\n",
      "    Delta_tls: 1.,\n",
      "    Delta_cav: 1.,\n",
      "    g: 5.,\n",
      "    chi: .5,\n",
      "}"
     ],
     "language": "python",
     "metadata": {},
     "outputs": [],
     "prompt_number": 6
    },
    {
     "cell_type": "code",
     "collapsed": false,
     "input": [
      "tls_space = local_space(2, basis=[\"e\", \"g\"])\n",
      "tls_space"
     ],
     "language": "python",
     "metadata": {},
     "outputs": [
      {
       "latex": [
        "${{\\rm 2}}$"
       ],
       "metadata": {},
       "output_type": "pyout",
       "prompt_number": 7,
       "text": [
        "LocalSpace('2', '')"
       ]
      }
     ],
     "prompt_number": 7
    },
    {
     "cell_type": "code",
     "collapsed": false,
     "input": [
      "Hn = H.substitute(params)\n",
      "Hn"
     ],
     "language": "python",
     "metadata": {},
     "outputs": [
      {
       "latex": [
        "${\\Pi_{{\\rm e}}^{{{\\rm 2}}}} +  5.0 i \\left({a_{{{\\rm 1}}}^\\dagger} {\\sigma_{{\\rm g},{\\rm e}}^{{{\\rm 2}}}} - {a_{{{\\rm 1}}}} {\\sigma_{{\\rm e},{\\rm g}}^{{{\\rm 2}}}}\\right) +  0.5 {a_{{{\\rm 1}}}^\\dagger} {a_{{{\\rm 1}}}^\\dagger} {a_{{{\\rm 1}}}} {a_{{{\\rm 1}}}} + {a_{{{\\rm 1}}}^\\dagger} {a_{{{\\rm 1}}}}$"
       ],
       "metadata": {},
       "output_type": "pyout",
       "prompt_number": 8,
       "text": [
        "OperatorPlus(LocalSigma(LocalSpace('2', ''), 'e', 'e'), ScalarTimesOperator(5.0*I, OperatorPlus(OperatorTimes(Create(LocalSpace('1', '')), LocalSigma(LocalSpace('2', ''), 'g', 'e')), ScalarTimesOperator(-1, OperatorTimes(Destroy(LocalSpace('1', '')), LocalSigma(LocalSpace('2', ''), 'e', 'g'))))), ScalarTimesOperator(0.500000000000000, OperatorTimes(Create(LocalSpace('1', '')), Create(LocalSpace('1', '')), Destroy(LocalSpace('1', '')), Destroy(LocalSpace('1', '')))), OperatorTimes(Create(LocalSpace('1', '')), Destroy(LocalSpace('1', ''))))"
       ]
      }
     ],
     "prompt_number": 8
    },
    {
     "cell_type": "code",
     "collapsed": false,
     "input": [
      "sigma.space.dimension\n",
      "a.space.dimension=10"
     ],
     "language": "python",
     "metadata": {},
     "outputs": [],
     "prompt_number": 9
    },
    {
     "cell_type": "code",
     "collapsed": false,
     "input": [
      "Hq=Hn.to_qutip()\n",
      "Hq"
     ],
     "language": "python",
     "metadata": {},
     "outputs": [
      {
       "latex": [
        "Quantum object: dims = [[10, 2], [10, 2]], shape = [20, 20], type = oper, isherm = True\\begin{equation*}\\left(\\begin{array}{*{11}c}1.0 & 0.0 & 0.0 & -5.0j & 0.0 & \\cdots & 0.0 & 0.0 & 0.0 & 0.0 & 0.0\\\\0.0 & 0.0 & 0.0 & 0.0 & 0.0 & \\cdots & 0.0 & 0.0 & 0.0 & 0.0 & 0.0\\\\0.0 & 0.0 & 2.0 & 0.0 & 0.0 & \\cdots & 0.0 & 0.0 & 0.0 & 0.0 & 0.0\\\\5.0j & 0.0 & 0.0 & 1.0 & 0.0 & \\cdots & 0.0 & 0.0 & 0.0 & 0.0 & 0.0\\\\0.0 & 0.0 & 0.0 & 0.0 & 4.0 & \\cdots & 0.0 & 0.0 & 0.0 & 0.0 & 0.0\\\\\\vdots & \\vdots & \\vdots & \\vdots & \\vdots & \\ddots & \\vdots & \\vdots & \\vdots & \\vdots & \\vdots\\\\0.0 & 0.0 & 0.0 & 0.0 & 0.0 & \\cdots & 28.0 & 0.0 & 0.0 & 0.0 & 0.0\\\\0.0 & 0.0 & 0.0 & 0.0 & 0.0 & \\cdots & 0.0 & 37.0 & 0.0 & 0.0 & -15.0j\\\\0.0 & 0.0 & 0.0 & 0.0 & 0.0 & \\cdots & 0.0 & 0.0 & 36.0 & 0.0 & 0.0\\\\0.0 & 0.0 & 0.0 & 0.0 & 0.0 & \\cdots & 0.0 & 0.0 & 0.0 & 46.0 & 0.0\\\\0.0 & 0.0 & 0.0 & 0.0 & 0.0 & \\cdots & 0.0 & 15.0j & 0.0 & 0.0 & 45.0\\\\\\end{array}\\right)\\end{equation*}"
       ],
       "metadata": {},
       "output_type": "pyout",
       "prompt_number": 10,
       "text": [
        "Quantum object: dims = [[10, 2], [10, 2]], shape = [20, 20], type = oper, isherm = True\n",
        "Qobj data =\n",
        "[[  1. +0.j           0. +0.j           0. +0.j           0. -5.j           0. +0.j\n",
        "    0. +0.j           0. +0.j           0. +0.j           0. +0.j           0. +0.j\n",
        "    0. +0.j           0. +0.j           0. +0.j           0. +0.j           0. +0.j\n",
        "    0. +0.j           0. +0.j           0. +0.j           0. +0.j           0. +0.j        ]\n",
        " [  0. +0.j           0. +0.j           0. +0.j           0. +0.j           0. +0.j\n",
        "    0. +0.j           0. +0.j           0. +0.j           0. +0.j           0. +0.j\n",
        "    0. +0.j           0. +0.j           0. +0.j           0. +0.j           0. +0.j\n",
        "    0. +0.j           0. +0.j           0. +0.j           0. +0.j           0. +0.j        ]\n",
        " [  0. +0.j           0. +0.j           2. +0.j           0. +0.j           0. +0.j\n",
        "    0. -7.07106781j   0. +0.j           0. +0.j           0. +0.j           0. +0.j\n",
        "    0. +0.j           0. +0.j           0. +0.j           0. +0.j           0. +0.j\n",
        "    0. +0.j           0. +0.j           0. +0.j           0. +0.j           0. +0.j        ]\n",
        " [  0. +5.j           0. +0.j           0. +0.j           1. +0.j           0. +0.j\n",
        "    0. +0.j           0. +0.j           0. +0.j           0. +0.j           0. +0.j\n",
        "    0. +0.j           0. +0.j           0. +0.j           0. +0.j           0. +0.j\n",
        "    0. +0.j           0. +0.j           0. +0.j           0. +0.j           0. +0.j        ]\n",
        " [  0. +0.j           0. +0.j           0. +0.j           0. +0.j           4. +0.j\n",
        "    0. +0.j           0. +0.j           0. -8.66025404j   0. +0.j           0. +0.j\n",
        "    0. +0.j           0. +0.j           0. +0.j           0. +0.j           0. +0.j\n",
        "    0. +0.j           0. +0.j           0. +0.j           0. +0.j           0. +0.j        ]\n",
        " [  0. +0.j           0. +0.j           0. +7.07106781j   0. +0.j           0. +0.j\n",
        "    3. +0.j           0. +0.j           0. +0.j           0. +0.j           0. +0.j\n",
        "    0. +0.j           0. +0.j           0. +0.j           0. +0.j           0. +0.j\n",
        "    0. +0.j           0. +0.j           0. +0.j           0. +0.j           0. +0.j        ]\n",
        " [  0. +0.j           0. +0.j           0. +0.j           0. +0.j           0. +0.j\n",
        "    0. +0.j           7. +0.j           0. +0.j           0. +0.j           0.-10.j\n",
        "    0. +0.j           0. +0.j           0. +0.j           0. +0.j           0. +0.j\n",
        "    0. +0.j           0. +0.j           0. +0.j           0. +0.j           0. +0.j        ]\n",
        " [  0. +0.j           0. +0.j           0. +0.j           0. +0.j\n",
        "    0. +8.66025404j   0. +0.j           0. +0.j           6. +0.j           0. +0.j\n",
        "    0. +0.j           0. +0.j           0. +0.j           0. +0.j           0. +0.j\n",
        "    0. +0.j           0. +0.j           0. +0.j           0. +0.j           0. +0.j\n",
        "    0. +0.j        ]\n",
        " [  0. +0.j           0. +0.j           0. +0.j           0. +0.j           0. +0.j\n",
        "    0. +0.j           0. +0.j           0. +0.j          11. +0.j           0. +0.j\n",
        "    0. +0.j           0.-11.18033989j   0. +0.j           0. +0.j           0. +0.j\n",
        "    0. +0.j           0. +0.j           0. +0.j           0. +0.j           0. +0.j        ]\n",
        " [  0. +0.j           0. +0.j           0. +0.j           0. +0.j           0. +0.j\n",
        "    0. +0.j           0.+10.j           0. +0.j           0. +0.j          10. +0.j\n",
        "    0. +0.j           0. +0.j           0. +0.j           0. +0.j           0. +0.j\n",
        "    0. +0.j           0. +0.j           0. +0.j           0. +0.j           0. +0.j        ]\n",
        " [  0. +0.j           0. +0.j           0. +0.j           0. +0.j           0. +0.j\n",
        "    0. +0.j           0. +0.j           0. +0.j           0. +0.j           0. +0.j\n",
        "   16. +0.j           0. +0.j           0. +0.j           0.-12.24744871j\n",
        "    0. +0.j           0. +0.j           0. +0.j           0. +0.j           0. +0.j\n",
        "    0. +0.j        ]\n",
        " [  0. +0.j           0. +0.j           0. +0.j           0. +0.j           0. +0.j\n",
        "    0. +0.j           0. +0.j           0. +0.j           0.+11.18033989j\n",
        "    0. +0.j           0. +0.j          15. +0.j           0. +0.j           0. +0.j\n",
        "    0. +0.j           0. +0.j           0. +0.j           0. +0.j           0. +0.j\n",
        "    0. +0.j        ]\n",
        " [  0. +0.j           0. +0.j           0. +0.j           0. +0.j           0. +0.j\n",
        "    0. +0.j           0. +0.j           0. +0.j           0. +0.j           0. +0.j\n",
        "    0. +0.j           0. +0.j          22. +0.j           0. +0.j           0. +0.j\n",
        "    0.-13.22875656j   0. +0.j           0. +0.j           0. +0.j           0. +0.j        ]\n",
        " [  0. +0.j           0. +0.j           0. +0.j           0. +0.j           0. +0.j\n",
        "    0. +0.j           0. +0.j           0. +0.j           0. +0.j           0. +0.j\n",
        "    0.+12.24744871j   0. +0.j           0. +0.j          21. +0.j           0. +0.j\n",
        "    0. +0.j           0. +0.j           0. +0.j           0. +0.j           0. +0.j        ]\n",
        " [  0. +0.j           0. +0.j           0. +0.j           0. +0.j           0. +0.j\n",
        "    0. +0.j           0. +0.j           0. +0.j           0. +0.j           0. +0.j\n",
        "    0. +0.j           0. +0.j           0. +0.j           0. +0.j          29. +0.j\n",
        "    0. +0.j           0. +0.j           0.-14.14213562j   0. +0.j           0. +0.j        ]\n",
        " [  0. +0.j           0. +0.j           0. +0.j           0. +0.j           0. +0.j\n",
        "    0. +0.j           0. +0.j           0. +0.j           0. +0.j           0. +0.j\n",
        "    0. +0.j           0. +0.j           0.+13.22875656j   0. +0.j           0. +0.j\n",
        "   28. +0.j           0. +0.j           0. +0.j           0. +0.j           0. +0.j        ]\n",
        " [  0. +0.j           0. +0.j           0. +0.j           0. +0.j           0. +0.j\n",
        "    0. +0.j           0. +0.j           0. +0.j           0. +0.j           0. +0.j\n",
        "    0. +0.j           0. +0.j           0. +0.j           0. +0.j           0. +0.j\n",
        "    0. +0.j          37. +0.j           0. +0.j           0. +0.j           0.-15.j        ]\n",
        " [  0. +0.j           0. +0.j           0. +0.j           0. +0.j           0. +0.j\n",
        "    0. +0.j           0. +0.j           0. +0.j           0. +0.j           0. +0.j\n",
        "    0. +0.j           0. +0.j           0. +0.j           0. +0.j\n",
        "    0.+14.14213562j   0. +0.j           0. +0.j          36. +0.j           0. +0.j\n",
        "    0. +0.j        ]\n",
        " [  0. +0.j           0. +0.j           0. +0.j           0. +0.j           0. +0.j\n",
        "    0. +0.j           0. +0.j           0. +0.j           0. +0.j           0. +0.j\n",
        "    0. +0.j           0. +0.j           0. +0.j           0. +0.j           0. +0.j\n",
        "    0. +0.j           0. +0.j           0. +0.j          46. +0.j           0. +0.j        ]\n",
        " [  0. +0.j           0. +0.j           0. +0.j           0. +0.j           0. +0.j\n",
        "    0. +0.j           0. +0.j           0. +0.j           0. +0.j           0. +0.j\n",
        "    0. +0.j           0. +0.j           0. +0.j           0. +0.j           0. +0.j\n",
        "    0. +0.j           0.+15.j           0. +0.j           0. +0.j          45. +0.j        ]]"
       ]
      }
     ],
     "prompt_number": 10
    },
    {
     "cell_type": "code",
     "collapsed": false,
     "input": [
      "import qnet.algebra.hilbert_space_algebra as ha"
     ],
     "language": "python",
     "metadata": {},
     "outputs": [],
     "prompt_number": 12
    },
    {
     "cell_type": "code",
     "collapsed": false,
     "input": [
      "ha.BasisRegistry.set_basis(sigma.space, (\"e\", \"g\"))"
     ],
     "language": "python",
     "metadata": {},
     "outputs": [
      {
       "output_type": "stream",
       "stream": "stdout",
       "text": [
        "Warning: changing basis specification for registered LocalSpace 2 from ['e', 'g'] to ('e', 'g')\n"
       ]
      }
     ],
     "prompt_number": 13
    },
    {
     "cell_type": "code",
     "collapsed": false,
     "input": [
      "a * a.dag() - a.dag() * a"
     ],
     "language": "python",
     "metadata": {},
     "outputs": [
      {
       "latex": [
        "$1$"
       ],
       "metadata": {},
       "output_type": "pyout",
       "prompt_number": 11,
       "text": [
        "IdentityOperator"
       ]
      }
     ],
     "prompt_number": 11
    },
    {
     "cell_type": "code",
     "collapsed": false,
     "input": [],
     "language": "python",
     "metadata": {},
     "outputs": []
    }
   ],
   "metadata": {}
  }
 ]
}
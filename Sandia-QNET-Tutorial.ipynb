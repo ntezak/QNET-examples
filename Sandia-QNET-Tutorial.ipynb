{
 "metadata": {
  "name": "",
  "signature": "sha256:c724117a05f7aebc0c20e6864b9d57555ced9042071c5542c7f81049f3d0380e"
 },
 "nbformat": 3,
 "nbformat_minor": 0,
 "worksheets": [
  {
   "cells": [
    {
     "cell_type": "markdown",
     "metadata": {},
     "source": [
      "# The reasons for creating QNET\n",
      "\n",
      "* We want to be able to **rapidly construct** and compute analytically complex quantum models for nanophotonic circuits.\n",
      "* We want to **automate** many tedious tasks involved in the algebra.\n",
      "* We want to enable a very rapid workflow from circuit design to simulation in order to manually optimize a circuit design for a particular task\n",
      "\n",
      "# Design decisions\n",
      "\n",
      "* Chose Python because of familiarity, clarity of syntax, wide availability of scientific packages, relative ease of interfacing with C-code\n",
      "* Chose IPython notebook as primary target platform because it has Mathematica-type cells for non-linear code execution. It allows rich display of data and including notes with equations. It can run remotely yet be used in a browser with no latency compared to other remote GUIs. It is under heavy active development and will increase supporting more and more languages.\n",
      "\n",
      "# The components of QNET\n",
      "\n",
      "QNET consists of \n",
      "\n",
      "* tools to enable schematic capture via `gschem` and export circuit definitions to `QHDL` text files.  \n",
      "* a QHDL-parser that translates circuits into an algebraic model (S L H)  \n",
      "* A very general symbolic algebra package that features tools to rapidly define non-commutative algebra implementations, including\n",
      "    * Operator algebra\n",
      "    * SLH-Circuit algebra\n",
      "    * Bra-Ket algebra\n",
      "    * Super-operator algebra\n",
      "    * (Hilbert-space tensor product algebra)\n",
      "\n",
      "These tools allow to treat circuit models fully analytically and to rapidly compute open system models of quantum feedback circuits."
     ]
    },
    {
     "cell_type": "heading",
     "level": 1,
     "metadata": {},
     "source": [
      "Hilbert Space algebra (simplest example)"
     ]
    },
    {
     "cell_type": "code",
     "collapsed": false,
     "input": [
      "from qnet.algebra.hilbert_space_algebra import *"
     ],
     "language": "python",
     "metadata": {},
     "outputs": [],
     "prompt_number": 427
    },
    {
     "cell_type": "code",
     "collapsed": false,
     "input": [
      "s1 = local_space(\"s1\")\n",
      "s2 = local_space(\"s2\")\n",
      "type(s1)"
     ],
     "language": "python",
     "metadata": {},
     "outputs": [
      {
       "metadata": {},
       "output_type": "pyout",
       "prompt_number": 432,
       "text": [
        "qnet.algebra.hilbert_space_algebra.LocalSpace"
       ]
      }
     ],
     "prompt_number": 432
    },
    {
     "cell_type": "heading",
     "level": 2,
     "metadata": {},
     "source": [
      "Tensor product spaces"
     ]
    },
    {
     "cell_type": "code",
     "collapsed": false,
     "input": [
      "s12 = s1*s2\n",
      "s12"
     ],
     "language": "python",
     "metadata": {},
     "outputs": [
      {
       "latex": [
        "${{\\rm s1}} \\otimes {{\\rm s2}}$"
       ],
       "metadata": {},
       "output_type": "pyout",
       "prompt_number": 433,
       "text": [
        "ProductSpace(LocalSpace('s1', ''), LocalSpace('s2', ''))"
       ]
      }
     ],
     "prompt_number": 433
    },
    {
     "cell_type": "code",
     "collapsed": false,
     "input": [
      "s12 * s2"
     ],
     "language": "python",
     "metadata": {},
     "outputs": [
      {
       "latex": [
        "${{\\rm s1}} \\otimes {{\\rm s2}}$"
       ],
       "metadata": {},
       "output_type": "pyout",
       "prompt_number": 434,
       "text": [
        "ProductSpace(LocalSpace('s1', ''), LocalSpace('s2', ''))"
       ]
      }
     ],
     "prompt_number": 434
    },
    {
     "cell_type": "code",
     "collapsed": false,
     "input": [
      "type(s12)"
     ],
     "language": "python",
     "metadata": {},
     "outputs": [
      {
       "metadata": {},
       "output_type": "pyout",
       "prompt_number": 435,
       "text": [
        "qnet.algebra.hilbert_space_algebra.ProductSpace"
       ]
      }
     ],
     "prompt_number": 435
    },
    {
     "cell_type": "code",
     "collapsed": false,
     "input": [
      "s2 * s1"
     ],
     "language": "python",
     "metadata": {},
     "outputs": [
      {
       "latex": [
        "${{\\rm s1}} \\otimes {{\\rm s2}}$"
       ],
       "metadata": {},
       "output_type": "pyout",
       "prompt_number": 438,
       "text": [
        "ProductSpace(LocalSpace('s1', ''), LocalSpace('s2', ''))"
       ]
      }
     ],
     "prompt_number": 438
    },
    {
     "cell_type": "code",
     "collapsed": false,
     "input": [
      "ProductSpace(s1, s2)"
     ],
     "language": "python",
     "metadata": {},
     "outputs": [
      {
       "latex": [
        "${{\\rm s1}} \\otimes {{\\rm s2}}$"
       ],
       "metadata": {},
       "output_type": "pyout",
       "prompt_number": 436,
       "text": [
        "ProductSpace(LocalSpace('s1', ''), LocalSpace('s2', ''))"
       ]
      }
     ],
     "prompt_number": 436
    },
    {
     "cell_type": "code",
     "collapsed": false,
     "input": [
      "ProductSpace.create(s2, s1)"
     ],
     "language": "python",
     "metadata": {},
     "outputs": [
      {
       "latex": [
        "${{\\rm s1}} \\otimes {{\\rm s2}}$"
       ],
       "metadata": {},
       "output_type": "pyout",
       "prompt_number": 439,
       "text": [
        "ProductSpace(LocalSpace('s1', ''), LocalSpace('s2', ''))"
       ]
      }
     ],
     "prompt_number": 439
    },
    {
     "cell_type": "code",
     "collapsed": false,
     "input": [
      "ProductSpace(s2, s1) == s1 * s2"
     ],
     "language": "python",
     "metadata": {},
     "outputs": [
      {
       "metadata": {},
       "output_type": "pyout",
       "prompt_number": 440,
       "text": [
        "False"
       ]
      }
     ],
     "prompt_number": 440
    },
    {
     "cell_type": "markdown",
     "metadata": {},
     "source": [
      "Here we see that the spaces which *should* be considered equal aren't identified as such, mainly because of the way we instantiated the ProductSpace object. Calling the class constructor of an Operation (cf. below) directly bypasses the built-in simplification and argument ordering mechanisms."
     ]
    },
    {
     "cell_type": "code",
     "collapsed": false,
     "input": [
      "s2 * s1 == s1 * s2"
     ],
     "language": "python",
     "metadata": {},
     "outputs": [
      {
       "metadata": {},
       "output_type": "pyout",
       "prompt_number": 441,
       "text": [
        "True"
       ]
      }
     ],
     "prompt_number": 441
    },
    {
     "cell_type": "code",
     "collapsed": false,
     "input": [
      "filter(lambda s: not s.startswith(\"_\"), dir(s12))"
     ],
     "language": "python",
     "metadata": {},
     "outputs": [
      {
       "metadata": {},
       "output_type": "pyout",
       "prompt_number": 442,
       "text": [
        "['all_symbols',\n",
        " 'create',\n",
        " 'dimension',\n",
        " 'intersect',\n",
        " 'is_strict_subfactor_of',\n",
        " 'is_strict_tensor_factor_of',\n",
        " 'is_tensor_factor_of',\n",
        " 'local_factors',\n",
        " 'neutral_element',\n",
        " 'operands',\n",
        " 'order_key',\n",
        " 'remove',\n",
        " 'signature',\n",
        " 'substitute',\n",
        " 'tensor',\n",
        " 'tex']"
       ]
      }
     ],
     "prompt_number": 442
    },
    {
     "cell_type": "code",
     "collapsed": false,
     "input": [
      "s12.local_factors()"
     ],
     "language": "python",
     "metadata": {},
     "outputs": [
      {
       "metadata": {},
       "output_type": "pyout",
       "prompt_number": 443,
       "text": [
        "(LocalSpace('s1', ''), LocalSpace('s2', ''))"
       ]
      }
     ],
     "prompt_number": 443
    },
    {
     "cell_type": "code",
     "collapsed": false,
     "input": [
      "s12.local_factors??"
     ],
     "language": "python",
     "metadata": {},
     "outputs": [],
     "prompt_number": 444
    },
    {
     "cell_type": "code",
     "collapsed": false,
     "input": [
      "s12._local_factors??"
     ],
     "language": "python",
     "metadata": {},
     "outputs": [],
     "prompt_number": 445
    },
    {
     "cell_type": "code",
     "collapsed": false,
     "input": [
      "s12.operands"
     ],
     "language": "python",
     "metadata": {},
     "outputs": [
      {
       "metadata": {},
       "output_type": "pyout",
       "prompt_number": 446,
       "text": [
        "(LocalSpace('s1', ''), LocalSpace('s2', ''))"
       ]
      }
     ],
     "prompt_number": 446
    },
    {
     "cell_type": "code",
     "collapsed": false,
     "input": [
      "s12.__class__??"
     ],
     "language": "python",
     "metadata": {},
     "outputs": [],
     "prompt_number": 449
    },
    {
     "cell_type": "code",
     "collapsed": false,
     "input": [
      "Operation??"
     ],
     "language": "python",
     "metadata": {},
     "outputs": [],
     "prompt_number": 450
    },
    {
     "cell_type": "heading",
     "level": 2,
     "metadata": {},
     "source": [
      "Algebraic rules: Dividing out tensor factors"
     ]
    },
    {
     "cell_type": "code",
     "collapsed": false,
     "input": [
      "s12 / s1"
     ],
     "language": "python",
     "metadata": {},
     "outputs": [
      {
       "latex": [
        "${{\\rm s2}}$"
       ],
       "metadata": {},
       "output_type": "pyout",
       "prompt_number": 451,
       "text": [
        "LocalSpace('s2', '')"
       ]
      }
     ],
     "prompt_number": 451
    },
    {
     "cell_type": "heading",
     "level": 2,
     "metadata": {},
     "source": [
      "Special Elements: FullSpace, TrivialSpace"
     ]
    },
    {
     "cell_type": "code",
     "collapsed": false,
     "input": [
      "FullSpace"
     ],
     "language": "python",
     "metadata": {},
     "outputs": [
      {
       "latex": [
        "$\\mathcal{H}_{\\rm total}$"
       ],
       "metadata": {},
       "output_type": "pyout",
       "prompt_number": 452,
       "text": [
        "FullSpace"
       ]
      }
     ],
     "prompt_number": 452
    },
    {
     "cell_type": "code",
     "collapsed": false,
     "input": [
      "FullSpace * s12"
     ],
     "language": "python",
     "metadata": {},
     "outputs": [
      {
       "latex": [
        "$\\mathcal{H}_{\\rm total}$"
       ],
       "metadata": {},
       "output_type": "pyout",
       "prompt_number": 453,
       "text": [
        "FullSpace"
       ]
      }
     ],
     "prompt_number": 453
    },
    {
     "cell_type": "code",
     "collapsed": false,
     "input": [
      "TrivialSpace"
     ],
     "language": "python",
     "metadata": {},
     "outputs": [
      {
       "latex": [
        "$\\mathcal{H}_{\\rm null}$"
       ],
       "metadata": {},
       "output_type": "pyout",
       "prompt_number": 454,
       "text": [
        "TrivialSpace"
       ]
      }
     ],
     "prompt_number": 454
    },
    {
     "cell_type": "code",
     "collapsed": false,
     "input": [
      "TrivialSpace * s12"
     ],
     "language": "python",
     "metadata": {},
     "outputs": [
      {
       "latex": [
        "${{\\rm s1}} \\otimes {{\\rm s2}}$"
       ],
       "metadata": {},
       "output_type": "pyout",
       "prompt_number": 455,
       "text": [
        "ProductSpace(LocalSpace('s1', ''), LocalSpace('s2', ''))"
       ]
      }
     ],
     "prompt_number": 455
    },
    {
     "cell_type": "code",
     "collapsed": false,
     "input": [
      "s12/TrivialSpace"
     ],
     "language": "python",
     "metadata": {},
     "outputs": [
      {
       "latex": [
        "${{\\rm s1}} \\otimes {{\\rm s2}}$"
       ],
       "metadata": {},
       "output_type": "pyout",
       "prompt_number": 456,
       "text": [
        "ProductSpace(LocalSpace('s1', ''), LocalSpace('s2', ''))"
       ]
      }
     ],
     "prompt_number": 456
    },
    {
     "cell_type": "code",
     "collapsed": false,
     "input": [
      "s12/FullSpace"
     ],
     "language": "python",
     "metadata": {},
     "outputs": [
      {
       "latex": [
        "$\\mathcal{H}_{\\rm null}$"
       ],
       "metadata": {},
       "output_type": "pyout",
       "prompt_number": 457,
       "text": [
        "TrivialSpace"
       ]
      }
     ],
     "prompt_number": 457
    },
    {
     "cell_type": "markdown",
     "metadata": {},
     "source": [
      "# How does symbolic algebra work in general?\n",
      "\n",
      "Symbolic expressions are **tree-structures** with each node containing a label (also called **head**) and possibly a number of childnodes (called **arguments** or **operands**).\n",
      "Expression simplification rules are thus inherently tree-rewriting rules. They require to do **pattern matching and substitution** on trees. QNET's specific algebra implementations have a lot of automatic simplification built in. But there is the `qnet.algebra.abstract_algebra` module that contains a rich set of tools to extend these existing ones or add new ones.\n",
      "\n",
      "To be able to determine equivalence between expressions, it is usually convenient to define a *normal form*, i.e. a (total) ordering relationship on the set of all possible expressions. Depending on how the pattern matching is carried out, this ordering can also affect overall performance of symbolic simplification strongly.\n",
      "\n",
      "## What are other well-known symbolic algebra systems?\n",
      "\n",
      "**Mathematica**:  \n",
      "Syntax very much like LISP, pattern matching and rewriting part of the core language. Very powerful, functional-language like system.\n",
      "However, it is also a closed platform and the support for generic, non-commutative algebras could still be much improved.\n",
      "\n",
      "**SymPy**:\n",
      "Inspired by Mathematica, but implemented in Python. Very feature-complete, great for all sorts of scalar algebra/calculus type problems, but also not at all optimized for generic (non-commutative) algebras. Also, I personally disagree with a lot of the design decisions. The most basic classes/types from which everything inherits, already know too many particulars of the algebraic structures that are implemented. This leads to a totally overloaded object namespace.\n",
      "\n",
      "I designed my own package to interface with SymPy for the scalar operator coefficient algebra."
     ]
    },
    {
     "cell_type": "code",
     "collapsed": false,
     "input": [
      "import qnet.algebra.hilbert_space_algebra"
     ],
     "language": "python",
     "metadata": {},
     "outputs": [],
     "prompt_number": 459
    },
    {
     "cell_type": "code",
     "collapsed": false,
     "input": [
      "qnet.algebra.hilbert_space_algebra??"
     ],
     "language": "python",
     "metadata": {},
     "outputs": [],
     "prompt_number": 460
    },
    {
     "cell_type": "heading",
     "level": 1,
     "metadata": {},
     "source": [
      "Operator Algebra example"
     ]
    },
    {
     "cell_type": "heading",
     "level": 2,
     "metadata": {},
     "source": [
      "The main classes"
     ]
    },
    {
     "cell_type": "code",
     "collapsed": false,
     "input": [
      "from qnet.algebra.operator_algebra import *"
     ],
     "language": "python",
     "metadata": {},
     "outputs": [],
     "prompt_number": 468
    },
    {
     "cell_type": "code",
     "collapsed": false,
     "input": [
      "a = Destroy(1) # shortcut for Destroy(local_space(\"1\"))\n",
      "a"
     ],
     "language": "python",
     "metadata": {},
     "outputs": [
      {
       "latex": [
        "${a_{{{\\rm 1}}}}$"
       ],
       "metadata": {},
       "output_type": "pyout",
       "prompt_number": 469,
       "text": [
        "Destroy(LocalSpace('1', ''))"
       ]
      }
     ],
     "prompt_number": 469
    },
    {
     "cell_type": "code",
     "collapsed": false,
     "input": [
      "a.dag()"
     ],
     "language": "python",
     "metadata": {},
     "outputs": [
      {
       "latex": [
        "${a_{{{\\rm 1}}}^\\dagger}$"
       ],
       "metadata": {},
       "output_type": "pyout",
       "prompt_number": 470,
       "text": [
        "Create(LocalSpace('1', ''))"
       ]
      }
     ],
     "prompt_number": 470
    },
    {
     "cell_type": "code",
     "collapsed": false,
     "input": [
      "a * a.dag()"
     ],
     "language": "python",
     "metadata": {},
     "outputs": [
      {
       "latex": [
        "$1 + {a_{{{\\rm 1}}}^\\dagger} {a_{{{\\rm 1}}}}$"
       ],
       "metadata": {},
       "output_type": "pyout",
       "prompt_number": 471,
       "text": [
        "OperatorPlus(IdentityOperator, OperatorTimes(Create(LocalSpace('1', '')), Destroy(LocalSpace('1', ''))))"
       ]
      }
     ],
     "prompt_number": 471
    },
    {
     "cell_type": "code",
     "collapsed": false,
     "input": [
      "class MyObj:\n",
      "    def __init__(self, arg):\n",
      "        self.arg = arg\n",
      "        \n",
      "    def _repr_latex_(self):\n",
      "        return self.arg"
     ],
     "language": "python",
     "metadata": {},
     "outputs": [],
     "prompt_number": 466
    },
    {
     "cell_type": "code",
     "collapsed": false,
     "input": [
      "m = MyObj(r\"$\\alpha$\")\n",
      "m"
     ],
     "language": "python",
     "metadata": {},
     "outputs": [
      {
       "latex": [
        "$\\alpha$"
       ],
       "metadata": {},
       "output_type": "pyout",
       "prompt_number": 467,
       "text": [
        "<__main__.MyObj instance at 0x110bd97a0>"
       ]
      }
     ],
     "prompt_number": 467
    },
    {
     "cell_type": "code",
     "collapsed": false,
     "input": [
      "s = LocalSigma(2, 0,1)\n",
      "s"
     ],
     "language": "python",
     "metadata": {},
     "outputs": [
      {
       "latex": [
        "${\\sigma_{0,1}^{{{\\rm 2}}}}$"
       ],
       "metadata": {},
       "output_type": "pyout",
       "prompt_number": 472,
       "text": [
        "LocalSigma(LocalSpace('2', ''), 0, 1)"
       ]
      }
     ],
     "prompt_number": 472
    },
    {
     "cell_type": "code",
     "collapsed": false,
     "input": [
      "s.adjoint()"
     ],
     "language": "python",
     "metadata": {},
     "outputs": [
      {
       "latex": [
        "${\\sigma_{1,0}^{{{\\rm 2}}}}$"
       ],
       "metadata": {},
       "output_type": "pyout",
       "prompt_number": 474,
       "text": [
        "LocalSigma(LocalSpace('2', ''), 1, 0)"
       ]
      }
     ],
     "prompt_number": 474
    },
    {
     "cell_type": "code",
     "collapsed": false,
     "input": [
      "s.dag() * s"
     ],
     "language": "python",
     "metadata": {},
     "outputs": [
      {
       "latex": [
        "${\\Pi_{1}^{{{\\rm 2}}}}$"
       ],
       "metadata": {},
       "output_type": "pyout",
       "prompt_number": 475,
       "text": [
        "LocalSigma(LocalSpace('2', ''), 1, 1)"
       ]
      }
     ],
     "prompt_number": 475
    },
    {
     "cell_type": "code",
     "collapsed": false,
     "input": [
      "s * s.dag()"
     ],
     "language": "python",
     "metadata": {},
     "outputs": [
      {
       "latex": [
        "${\\Pi_{0}^{{{\\rm 2}}}}$"
       ],
       "metadata": {},
       "output_type": "pyout",
       "prompt_number": 476,
       "text": [
        "LocalSigma(LocalSpace('2', ''), 0, 0)"
       ]
      }
     ],
     "prompt_number": 476
    },
    {
     "cell_type": "code",
     "collapsed": false,
     "input": [
      "5 * a * s"
     ],
     "language": "python",
     "metadata": {},
     "outputs": [
      {
       "latex": [
        "$ 5 {a_{{{\\rm 1}}}} {\\sigma_{0,1}^{{{\\rm 2}}}}$"
       ],
       "metadata": {},
       "output_type": "pyout",
       "prompt_number": 477,
       "text": [
        "ScalarTimesOperator(5, OperatorTimes(Destroy(LocalSpace('1', '')), LocalSigma(LocalSpace('2', ''), 0, 1)))"
       ]
      }
     ],
     "prompt_number": 477
    },
    {
     "cell_type": "code",
     "collapsed": false,
     "input": [
      "s * 5 * a # ordering determined by algebra"
     ],
     "language": "python",
     "metadata": {},
     "outputs": [
      {
       "latex": [
        "$ 5 {a_{{{\\rm 1}}}} {\\sigma_{0,1}^{{{\\rm 2}}}}$"
       ],
       "metadata": {},
       "output_type": "pyout",
       "prompt_number": 478,
       "text": [
        "ScalarTimesOperator(5, OperatorTimes(Destroy(LocalSpace('1', '')), LocalSigma(LocalSpace('2', ''), 0, 1)))"
       ]
      }
     ],
     "prompt_number": 478
    },
    {
     "cell_type": "code",
     "collapsed": false,
     "input": [
      "type(a * s)"
     ],
     "language": "python",
     "metadata": {},
     "outputs": [
      {
       "metadata": {},
       "output_type": "pyout",
       "prompt_number": 479,
       "text": [
        "qnet.algebra.operator_algebra.OperatorTimes"
       ]
      }
     ],
     "prompt_number": 479
    },
    {
     "cell_type": "code",
     "collapsed": false,
     "input": [
      "type(5 * a * s)"
     ],
     "language": "python",
     "metadata": {},
     "outputs": [
      {
       "metadata": {},
       "output_type": "pyout",
       "prompt_number": 480,
       "text": [
        "qnet.algebra.operator_algebra.ScalarTimesOperator"
       ]
      }
     ],
     "prompt_number": 480
    },
    {
     "cell_type": "code",
     "collapsed": false,
     "input": [
      "(5 * a * s).operands"
     ],
     "language": "python",
     "metadata": {},
     "outputs": [
      {
       "metadata": {},
       "output_type": "pyout",
       "prompt_number": 481,
       "text": [
        "(5,\n",
        " OperatorTimes(Destroy(LocalSpace('1', '')), LocalSigma(LocalSpace('2', ''), 0, 1)))"
       ]
      }
     ],
     "prompt_number": 481
    },
    {
     "cell_type": "code",
     "collapsed": false,
     "input": [
      "Hint = 2*a * s + 2*(a * s).dag()\n",
      "Hint"
     ],
     "language": "python",
     "metadata": {},
     "outputs": [
      {
       "latex": [
        "$ 2 {a_{{{\\rm 1}}}^\\dagger} {\\sigma_{1,0}^{{{\\rm 2}}}} +  2 {a_{{{\\rm 1}}}} {\\sigma_{0,1}^{{{\\rm 2}}}}$"
       ],
       "metadata": {},
       "output_type": "pyout",
       "prompt_number": 482,
       "text": [
        "OperatorPlus(ScalarTimesOperator(2, OperatorTimes(Create(LocalSpace('1', '')), LocalSigma(LocalSpace('2', ''), 1, 0))), ScalarTimesOperator(2, OperatorTimes(Destroy(LocalSpace('1', '')), LocalSigma(LocalSpace('2', ''), 0, 1))))"
       ]
      }
     ],
     "prompt_number": 482
    },
    {
     "cell_type": "code",
     "collapsed": false,
     "input": [
      "type(Hint)"
     ],
     "language": "python",
     "metadata": {},
     "outputs": [
      {
       "metadata": {},
       "output_type": "pyout",
       "prompt_number": 483,
       "text": [
        "qnet.algebra.operator_algebra.OperatorPlus"
       ]
      }
     ],
     "prompt_number": 483
    },
    {
     "cell_type": "heading",
     "level": 3,
     "metadata": {},
     "source": [
      "Special elements of algebraic Ring structure, multiplicative and additive neutral elements"
     ]
    },
    {
     "cell_type": "code",
     "collapsed": false,
     "input": [
      "a * IdentityOperator"
     ],
     "language": "python",
     "metadata": {},
     "outputs": [
      {
       "latex": [
        "${a_{{{\\rm 1}}}}$"
       ],
       "metadata": {},
       "output_type": "pyout",
       "prompt_number": 484,
       "text": [
        "Destroy(LocalSpace('1', ''))"
       ]
      }
     ],
     "prompt_number": 484
    },
    {
     "cell_type": "code",
     "collapsed": false,
     "input": [
      "a + ZeroOperator"
     ],
     "language": "python",
     "metadata": {},
     "outputs": [
      {
       "latex": [
        "${a_{{{\\rm 1}}}}$"
       ],
       "metadata": {},
       "output_type": "pyout",
       "prompt_number": 485,
       "text": [
        "Destroy(LocalSpace('1', ''))"
       ]
      }
     ],
     "prompt_number": 485
    },
    {
     "cell_type": "code",
     "collapsed": false,
     "input": [
      "a * ZeroOperator"
     ],
     "language": "python",
     "metadata": {},
     "outputs": [
      {
       "latex": [
        "$0$"
       ],
       "metadata": {},
       "output_type": "pyout",
       "prompt_number": 486,
       "text": [
        "ZeroOperator"
       ]
      }
     ],
     "prompt_number": 486
    },
    {
     "cell_type": "code",
     "collapsed": false,
     "input": [
      "type(a * 0)"
     ],
     "language": "python",
     "metadata": {},
     "outputs": [
      {
       "metadata": {},
       "output_type": "pyout",
       "prompt_number": 487,
       "text": [
        "qnet.algebra.abstract_algebra.ZeroOperator"
       ]
      }
     ],
     "prompt_number": 487
    },
    {
     "cell_type": "heading",
     "level": 3,
     "metadata": {},
     "source": [
      "Can also have pure operator symbols as place-holders"
     ]
    },
    {
     "cell_type": "code",
     "collapsed": false,
     "input": [
      "X = OperatorSymbol(\"X\", s.space)"
     ],
     "language": "python",
     "metadata": {},
     "outputs": [],
     "prompt_number": 488
    },
    {
     "cell_type": "code",
     "collapsed": false,
     "input": [
      "X * a"
     ],
     "language": "python",
     "metadata": {},
     "outputs": [
      {
       "latex": [
        "${a_{{{\\rm 1}}}} X$"
       ],
       "metadata": {},
       "output_type": "pyout",
       "prompt_number": 489,
       "text": [
        "OperatorTimes(Destroy(LocalSpace('1', '')), OperatorSymbol('X', LocalSpace('2', '')))"
       ]
      }
     ],
     "prompt_number": 489
    },
    {
     "cell_type": "code",
     "collapsed": false,
     "input": [
      "X * a - a * X # commutes because X acts on different degree of freedom"
     ],
     "language": "python",
     "metadata": {},
     "outputs": [
      {
       "latex": [
        "$0$"
       ],
       "metadata": {},
       "output_type": "pyout",
       "prompt_number": 490,
       "text": [
        "ZeroOperator"
       ]
      }
     ],
     "prompt_number": 490
    },
    {
     "cell_type": "code",
     "collapsed": false,
     "input": [
      "Y = OperatorSymbol(\"Y\", a.space)"
     ],
     "language": "python",
     "metadata": {},
     "outputs": [],
     "prompt_number": 491
    },
    {
     "cell_type": "code",
     "collapsed": false,
     "input": [
      "Y * a - a * Y # doesn't necessarily commute."
     ],
     "language": "python",
     "metadata": {},
     "outputs": [
      {
       "latex": [
        "$ -{a_{{{\\rm 1}}}} Y + Y {a_{{{\\rm 1}}}}$"
       ],
       "metadata": {},
       "output_type": "pyout",
       "prompt_number": 492,
       "text": [
        "OperatorPlus(ScalarTimesOperator(-1, OperatorTimes(Destroy(LocalSpace('1', '')), OperatorSymbol('Y', LocalSpace('1', '')))), OperatorTimes(OperatorSymbol('Y', LocalSpace('1', '')), Destroy(LocalSpace('1', ''))))"
       ]
      }
     ],
     "prompt_number": 492
    },
    {
     "cell_type": "heading",
     "level": 2,
     "metadata": {},
     "source": [
      "Sympy integration"
     ]
    },
    {
     "cell_type": "code",
     "collapsed": false,
     "input": [
      "x = symbols(\"x\")"
     ],
     "language": "python",
     "metadata": {},
     "outputs": [],
     "prompt_number": 497
    },
    {
     "cell_type": "code",
     "collapsed": false,
     "input": [
      "x * a"
     ],
     "language": "python",
     "metadata": {},
     "outputs": [
      {
       "latex": [
        "$ x {a_{{{\\rm 1}}}}$"
       ],
       "metadata": {},
       "output_type": "pyout",
       "prompt_number": 498,
       "text": [
        "ScalarTimesOperator(x, Destroy(LocalSpace('1', '')))"
       ]
      }
     ],
     "prompt_number": 498
    },
    {
     "cell_type": "code",
     "collapsed": false,
     "input": [
      "type(x*a)"
     ],
     "language": "python",
     "metadata": {},
     "outputs": [
      {
       "metadata": {},
       "output_type": "pyout",
       "prompt_number": 499,
       "text": [
        "qnet.algebra.operator_algebra.ScalarTimesOperator"
       ]
      }
     ],
     "prompt_number": 499
    },
    {
     "cell_type": "code",
     "collapsed": false,
     "input": [
      "Operator.scalar_types"
     ],
     "language": "python",
     "metadata": {},
     "outputs": [
      {
       "metadata": {},
       "output_type": "pyout",
       "prompt_number": 501,
       "text": [
        "(int, long, float, complex, sympy.core.basic.Basic)"
       ]
      }
     ],
     "prompt_number": 501
    },
    {
     "cell_type": "code",
     "collapsed": false,
     "input": [
      "x + a"
     ],
     "language": "python",
     "metadata": {},
     "outputs": [
      {
       "latex": [
        "$ x + {a_{{{\\rm 1}}}}$"
       ],
       "metadata": {},
       "output_type": "pyout",
       "prompt_number": 502,
       "text": [
        "OperatorPlus(ScalarTimesOperator(x, IdentityOperator), Destroy(LocalSpace('1', '')))"
       ]
      }
     ],
     "prompt_number": 502
    },
    {
     "cell_type": "code",
     "collapsed": false,
     "input": [
      "repr(x+a)"
     ],
     "language": "python",
     "metadata": {},
     "outputs": [
      {
       "metadata": {},
       "output_type": "pyout",
       "prompt_number": 503,
       "text": [
        "\"OperatorPlus(ScalarTimesOperator(x, IdentityOperator), Destroy(LocalSpace('1', '')))\""
       ]
      }
     ],
     "prompt_number": 503
    },
    {
     "cell_type": "heading",
     "level": 2,
     "metadata": {},
     "source": [
      "Operator Matrices (not its own full-fledged algebra)"
     ]
    },
    {
     "cell_type": "code",
     "collapsed": false,
     "input": [
      "L = 2 * Matrix([1,1])\n",
      "L"
     ],
     "language": "python",
     "metadata": {},
     "outputs": [
      {
       "latex": [
        "$\\begin{pmatrix} 2 \\\\ 2\\end{pmatrix}$"
       ],
       "metadata": {},
       "output_type": "pyout",
       "prompt_number": 508,
       "text": [
        "Matrix([[2], [2]])"
       ]
      }
     ],
     "prompt_number": 508
    },
    {
     "cell_type": "code",
     "collapsed": false,
     "input": [
      "L.shape"
     ],
     "language": "python",
     "metadata": {},
     "outputs": [
      {
       "metadata": {},
       "output_type": "pyout",
       "prompt_number": 509,
       "text": [
        "(2, 1)"
       ]
      }
     ],
     "prompt_number": 509
    },
    {
     "cell_type": "code",
     "collapsed": false,
     "input": [
      "type(L)"
     ],
     "language": "python",
     "metadata": {},
     "outputs": [
      {
       "metadata": {},
       "output_type": "pyout",
       "prompt_number": 510,
       "text": [
        "qnet.algebra.operator_algebra.Matrix"
       ]
      }
     ],
     "prompt_number": 510
    },
    {
     "cell_type": "code",
     "collapsed": false,
     "input": [
      "L * a"
     ],
     "language": "python",
     "metadata": {},
     "outputs": [
      {
       "latex": [
        "$\\begin{pmatrix}  2 {a_{{{\\rm 1}}}} \\\\  2 {a_{{{\\rm 1}}}}\\end{pmatrix}$"
       ],
       "metadata": {},
       "output_type": "pyout",
       "prompt_number": 511,
       "text": [
        "Matrix([[ScalarTimesOperator(2, Destroy(LocalSpace('1', '')))], [ScalarTimesOperator(2, Destroy(LocalSpace('1', '')))]])"
       ]
      }
     ],
     "prompt_number": 511
    },
    {
     "cell_type": "code",
     "collapsed": false,
     "input": [
      "(L * a)[0,0]"
     ],
     "language": "python",
     "metadata": {},
     "outputs": [
      {
       "latex": [
        "$ 2 {a_{{{\\rm 1}}}}$"
       ],
       "metadata": {},
       "output_type": "pyout",
       "prompt_number": 512,
       "text": [
        "ScalarTimesOperator(2, Destroy(LocalSpace('1', '')))"
       ]
      }
     ],
     "prompt_number": 512
    },
    {
     "cell_type": "code",
     "collapsed": false,
     "input": [
      "S = identity_matrix(2)\n",
      "S"
     ],
     "language": "python",
     "metadata": {},
     "outputs": [
      {
       "latex": [
        "$\\begin{pmatrix} 1 & 0 \\\\ 0 & 1\\end{pmatrix}$"
       ],
       "metadata": {},
       "output_type": "pyout",
       "prompt_number": 513,
       "text": [
        "Matrix([[1, 0], [0, 1]])"
       ]
      }
     ],
     "prompt_number": 513
    },
    {
     "cell_type": "code",
     "collapsed": false,
     "input": [
      "S * L"
     ],
     "language": "python",
     "metadata": {},
     "outputs": [
      {
       "latex": [
        "$\\begin{pmatrix} 2 \\\\ 2\\end{pmatrix}$"
       ],
       "metadata": {},
       "output_type": "pyout",
       "prompt_number": 514,
       "text": [
        "Matrix([[2], [2]])"
       ]
      }
     ],
     "prompt_number": 514
    },
    {
     "cell_type": "code",
     "collapsed": false,
     "input": [
      "S * (L * a)"
     ],
     "language": "python",
     "metadata": {},
     "outputs": [
      {
       "latex": [
        "$\\begin{pmatrix}  2 {a_{{{\\rm 1}}}} \\\\  2 {a_{{{\\rm 1}}}}\\end{pmatrix}$"
       ],
       "metadata": {},
       "output_type": "pyout",
       "prompt_number": 515,
       "text": [
        "Matrix([[ScalarTimesOperator(2, Destroy(LocalSpace('1', '')))], [ScalarTimesOperator(2, Destroy(LocalSpace('1', '')))]])"
       ]
      }
     ],
     "prompt_number": 515
    },
    {
     "cell_type": "code",
     "collapsed": false,
     "input": [
      "L.dag()"
     ],
     "language": "python",
     "metadata": {},
     "outputs": [
      {
       "latex": [
        "$\\begin{pmatrix} 2 & 2\\end{pmatrix}$"
       ],
       "metadata": {},
       "output_type": "pyout",
       "prompt_number": 517,
       "text": [
        "Matrix([[2, 2]])"
       ]
      }
     ],
     "prompt_number": 517
    },
    {
     "cell_type": "heading",
     "level": 1,
     "metadata": {},
     "source": [
      "SLH Circuit algebra example"
     ]
    },
    {
     "cell_type": "markdown",
     "metadata": {},
     "source": [
      "Intro to SLH models?"
     ]
    },
    {
     "cell_type": "code",
     "collapsed": false,
     "input": [
      "from qnet.algebra.circuit_algebra import *"
     ],
     "language": "python",
     "metadata": {},
     "outputs": [],
     "prompt_number": 518
    },
    {
     "cell_type": "code",
     "collapsed": false,
     "input": [
      "C1 = CircuitSymbol(\"C1\", 2)\n",
      "C1"
     ],
     "language": "python",
     "metadata": {},
     "outputs": [
      {
       "latex": [
        "$C1$"
       ],
       "metadata": {},
       "output_type": "pyout",
       "prompt_number": 520,
       "text": [
        "CircuitSymbol('C1', 2)"
       ]
      }
     ],
     "prompt_number": 520
    },
    {
     "cell_type": "code",
     "collapsed": false,
     "input": [
      "C1.show()"
     ],
     "language": "python",
     "metadata": {},
     "outputs": [
      {
       "metadata": {},
       "output_type": "display_data",
       "png": "[encoded data removed]",
       "text": [
        "<IPython.core.display.Image at 0x110bccbd0>"
       ]
      }
     ],
     "prompt_number": 521
    },
    {
     "cell_type": "code",
     "collapsed": false,
     "input": [
      "C2 = CircuitSymbol(\"C2\", 2)"
     ],
     "language": "python",
     "metadata": {},
     "outputs": [],
     "prompt_number": 522
    },
    {
     "cell_type": "code",
     "collapsed": false,
     "input": [
      "C21 = C2 << C1\n",
      "C21"
     ],
     "language": "python",
     "metadata": {},
     "outputs": [
      {
       "latex": [
        "${C2} \\lhd {C1}$"
       ],
       "metadata": {},
       "output_type": "pyout",
       "prompt_number": 523,
       "text": [
        "SeriesProduct(CircuitSymbol('C2', 2), CircuitSymbol('C1', 2))"
       ]
      }
     ],
     "prompt_number": 523
    },
    {
     "cell_type": "code",
     "collapsed": false,
     "input": [
      "C21.show()"
     ],
     "language": "python",
     "metadata": {},
     "outputs": [
      {
       "metadata": {},
       "output_type": "display_data",
       "png": "[encoded data removed]",
       "text": [
        "<IPython.core.display.Image at 0x111293890>"
       ]
      }
     ],
     "prompt_number": 524
    },
    {
     "cell_type": "code",
     "collapsed": false,
     "input": [
      "type(C21)"
     ],
     "language": "python",
     "metadata": {},
     "outputs": [
      {
       "metadata": {},
       "output_type": "pyout",
       "prompt_number": 525,
       "text": [
        "qnet.algebra.circuit_algebra.SeriesProduct"
       ]
      }
     ],
     "prompt_number": 525
    },
    {
     "cell_type": "code",
     "collapsed": false,
     "input": [],
     "language": "python",
     "metadata": {},
     "outputs": []
    },
    {
     "cell_type": "code",
     "collapsed": false,
     "input": [
      "C3 = CircuitSymbol(\"C3\", 2)"
     ],
     "language": "python",
     "metadata": {},
     "outputs": [],
     "prompt_number": 526
    },
    {
     "cell_type": "code",
     "collapsed": false,
     "input": [
      "C213 = C21 + C3\n",
      "C213"
     ],
     "language": "python",
     "metadata": {},
     "outputs": [
      {
       "latex": [
        "$({C2} \\lhd {C1}) \\boxplus C3$"
       ],
       "metadata": {},
       "output_type": "pyout",
       "prompt_number": 527,
       "text": [
        "Concatenation(SeriesProduct(CircuitSymbol('C2', 2), CircuitSymbol('C1', 2)), CircuitSymbol('C3', 2))"
       ]
      }
     ],
     "prompt_number": 527
    },
    {
     "cell_type": "code",
     "collapsed": false,
     "input": [
      "C213.show()"
     ],
     "language": "python",
     "metadata": {},
     "outputs": [
      {
       "metadata": {},
       "output_type": "display_data",
       "png": "[encoded data removed]",
       "text": [
        "<IPython.core.display.Image at 0x111293890>"
       ]
      }
     ],
     "prompt_number": 528
    },
    {
     "cell_type": "code",
     "collapsed": false,
     "input": [
      "type(C213)"
     ],
     "language": "python",
     "metadata": {},
     "outputs": [
      {
       "metadata": {},
       "output_type": "pyout",
       "prompt_number": 530,
       "text": [
        "qnet.algebra.circuit_algebra.Concatenation"
       ]
      }
     ],
     "prompt_number": 530
    },
    {
     "cell_type": "code",
     "collapsed": false,
     "input": [
      "C213fb = C213.feedback(1,1)\n",
      "C213fb"
     ],
     "language": "python",
     "metadata": {},
     "outputs": [
      {
       "latex": [
        "$\\left\\lfloor{C2} \\lhd {C1}\\right\\rfloor_{1\\to1} \\boxplus C3$"
       ],
       "metadata": {},
       "output_type": "pyout",
       "prompt_number": 531,
       "text": [
        "Concatenation(Feedback(SeriesProduct(CircuitSymbol('C2', 2), CircuitSymbol('C1', 2)), 1, 1), CircuitSymbol('C3', 2))"
       ]
      }
     ],
     "prompt_number": 531
    },
    {
     "cell_type": "code",
     "collapsed": false,
     "input": [
      "C213fb.show()"
     ],
     "language": "python",
     "metadata": {},
     "outputs": [
      {
       "metadata": {},
       "output_type": "display_data",
       "png": "[encoded data removed]",
       "text": [
        "<IPython.core.display.Image at 0x1112a5c50>"
       ]
      }
     ],
     "prompt_number": 532
    },
    {
     "cell_type": "code",
     "collapsed": false,
     "input": [
      "type(C213fb)"
     ],
     "language": "python",
     "metadata": {},
     "outputs": [
      {
       "metadata": {},
       "output_type": "pyout",
       "prompt_number": 533,
       "text": [
        "qnet.algebra.circuit_algebra.Concatenation"
       ]
      }
     ],
     "prompt_number": 533
    },
    {
     "cell_type": "code",
     "collapsed": false,
     "input": [],
     "language": "python",
     "metadata": {},
     "outputs": []
    },
    {
     "cell_type": "code",
     "collapsed": false,
     "input": [
      "C213fb2= C213fb.feedback(0, 1)\n",
      "C213fb2"
     ],
     "language": "python",
     "metadata": {},
     "outputs": [
      {
       "latex": [
        "${C3} \\lhd \\left(\\left\\lfloor{C2} \\lhd {C1}\\right\\rfloor_{1\\to1} \\boxplus \\mathbf{1}_{1}\\right)$"
       ],
       "metadata": {},
       "output_type": "pyout",
       "prompt_number": 534,
       "text": [
        "SeriesProduct(CircuitSymbol('C3', 2), Concatenation(Feedback(SeriesProduct(CircuitSymbol('C2', 2), CircuitSymbol('C1', 2)), 1, 1), CIdentity))"
       ]
      }
     ],
     "prompt_number": 534
    },
    {
     "cell_type": "code",
     "collapsed": false,
     "input": [
      "C213fb2.show()"
     ],
     "language": "python",
     "metadata": {},
     "outputs": [
      {
       "metadata": {},
       "output_type": "display_data",
       "png": "[encoded data removed]",
       "text": [
        "<IPython.core.display.Image at 0x110d56a50>"
       ]
      }
     ],
     "prompt_number": 535
    },
    {
     "cell_type": "markdown",
     "metadata": {},
     "source": [
      "The fact that even circuits are treated symbolically allows us to rewrite circuit expressions in order to detect causal relationships, are components in a 'time-like' or 'space-like' relationship?\n",
      "This is useful for large scale circuits if one has a model reduction procedure that allows to replace whole branches in a circuit with simplified models."
     ]
    },
    {
     "cell_type": "heading",
     "level": 2,
     "metadata": {},
     "source": [
      "SLH models, a complete input-output specification of an open quantum system"
     ]
    },
    {
     "cell_type": "code",
     "collapsed": false,
     "input": [
      "Delta, Theta, g = symbols(\"Delta, Theta, g\", real=True)\n",
      "kappa, gamma = symbols(\"kappa, gamma\", positive=True)"
     ],
     "language": "python",
     "metadata": {},
     "outputs": [],
     "prompt_number": 538
    },
    {
     "cell_type": "code",
     "collapsed": false,
     "input": [
      "sigma = LocalSigma(1, \"g\", \"e\")\n",
      "a = Destroy(2)\n",
      "H = Delta * sigma.dag() * sigma + Theta * a.dag() * a + I * g * (a * sigma.dag() - a.dag() * sigma)\n",
      "H"
     ],
     "language": "python",
     "metadata": {},
     "outputs": [
      {
       "latex": [
        "$ \\Delta {\\Pi_{{\\rm e}}^{{{\\rm 1}}}} +  i g \\left({\\sigma_{{\\rm e},{\\rm g}}^{{{\\rm 1}}}} {a_{{{\\rm 2}}}} - {\\sigma_{{\\rm g},{\\rm e}}^{{{\\rm 1}}}} {a_{{{\\rm 2}}}^\\dagger}\\right) +  \\Theta {a_{{{\\rm 2}}}^\\dagger} {a_{{{\\rm 2}}}}$"
       ],
       "metadata": {},
       "output_type": "pyout",
       "prompt_number": 539,
       "text": [
        "OperatorPlus(ScalarTimesOperator(Delta, LocalSigma(LocalSpace('1', ''), 'e', 'e')), ScalarTimesOperator(I*g, OperatorPlus(OperatorTimes(LocalSigma(LocalSpace('1', ''), 'e', 'g'), Destroy(LocalSpace('2', ''))), ScalarTimesOperator(-1, OperatorTimes(LocalSigma(LocalSpace('1', ''), 'g', 'e'), Create(LocalSpace('2', '')))))), ScalarTimesOperator(Theta, OperatorTimes(Create(LocalSpace('2', '')), Destroy(LocalSpace('2', '')))))"
       ]
      }
     ],
     "prompt_number": 539
    },
    {
     "cell_type": "code",
     "collapsed": false,
     "input": [
      "L1 = sqrt(kappa)*a\n",
      "L2 = sqrt(gamma)*sigma\n",
      "L = Matrix([L1, L2])\n",
      "S = identity_matrix(2) # S = Matrix([[1, 0],[0,1]])\n",
      "L"
     ],
     "language": "python",
     "metadata": {},
     "outputs": [
      {
       "latex": [
        "$\\begin{pmatrix}  \\sqrt{\\kappa} {a_{{{\\rm 2}}}} \\\\  \\sqrt{\\gamma} {\\sigma_{{\\rm g},{\\rm e}}^{{{\\rm 1}}}}\\end{pmatrix}$"
       ],
       "metadata": {},
       "output_type": "pyout",
       "prompt_number": 540,
       "text": [
        "Matrix([[ScalarTimesOperator(sqrt(kappa), Destroy(LocalSpace('2', '')))], [ScalarTimesOperator(sqrt(gamma), LocalSigma(LocalSpace('1', ''), 'g', 'e'))]])"
       ]
      }
     ],
     "prompt_number": 540
    },
    {
     "cell_type": "code",
     "collapsed": false,
     "input": [
      "slh = SLH(S, L, H)\n",
      "slh"
     ],
     "language": "python",
     "metadata": {},
     "outputs": [
      {
       "latex": [
        "$\\left( \\begin{pmatrix} 1 & 0 \\\\ 0 & 1\\end{pmatrix}, \\begin{pmatrix}  \\sqrt{\\kappa} {a_{{{\\rm 2}}}} \\\\  \\sqrt{\\gamma} {\\sigma_{{\\rm g},{\\rm e}}^{{{\\rm 1}}}}\\end{pmatrix},  \\Delta {\\Pi_{{\\rm e}}^{{{\\rm 1}}}} +  i g \\left({\\sigma_{{\\rm e},{\\rm g}}^{{{\\rm 1}}}} {a_{{{\\rm 2}}}} - {\\sigma_{{\\rm g},{\\rm e}}^{{{\\rm 1}}}} {a_{{{\\rm 2}}}^\\dagger}\\right) +  \\Theta {a_{{{\\rm 2}}}^\\dagger} {a_{{{\\rm 2}}}} \\right)$"
       ],
       "metadata": {},
       "output_type": "pyout",
       "prompt_number": 541,
       "text": [
        "SLH(Matrix([[1, 0], [0, 1]]), Matrix([[ScalarTimesOperator(sqrt(kappa), Destroy(LocalSpace('2', '')))], [ScalarTimesOperator(sqrt(gamma), LocalSigma(LocalSpace('1', ''), 'g', 'e'))]]), OperatorPlus(ScalarTimesOperator(Delta, LocalSigma(LocalSpace('1', ''), 'e', 'e')), ScalarTimesOperator(I*g, OperatorPlus(OperatorTimes(LocalSigma(LocalSpace('1', ''), 'e', 'g'), Destroy(LocalSpace('2', ''))), ScalarTimesOperator(-1, OperatorTimes(LocalSigma(LocalSpace('1', ''), 'g', 'e'), Create(LocalSpace('2', '')))))), ScalarTimesOperator(Theta, OperatorTimes(Create(LocalSpace('2', '')), Destroy(LocalSpace('2', ''))))))"
       ]
      }
     ],
     "prompt_number": 541
    },
    {
     "cell_type": "code",
     "collapsed": false,
     "input": [
      "alpha, beta = symbols(\"alpha, beta\")\n",
      "X = OperatorSymbol(\"X\", 3)\n",
      "H_2 = OperatorSymbol(\"H_2\", 3)\n",
      "slh2 = SLH(identity_matrix(2), Matrix([alpha *X, beta * X]), H_2)\n",
      "slh2"
     ],
     "language": "python",
     "metadata": {},
     "outputs": [
      {
       "latex": [
        "$\\left( \\begin{pmatrix} 1 & 0 \\\\ 0 & 1\\end{pmatrix}, \\begin{pmatrix}  \\alpha X \\\\  \\beta X\\end{pmatrix}, H_2 \\right)$"
       ],
       "metadata": {},
       "output_type": "pyout",
       "prompt_number": 542,
       "text": [
        "SLH(Matrix([[1, 0], [0, 1]]), Matrix([[ScalarTimesOperator(alpha, OperatorSymbol('X', LocalSpace('3', '')))], [ScalarTimesOperator(beta, OperatorSymbol('X', LocalSpace('3', '')))]]), OperatorSymbol('H_2', LocalSpace('3', '')))"
       ]
      }
     ],
     "prompt_number": 542
    },
    {
     "cell_type": "code",
     "collapsed": false,
     "input": [
      "slh + slh2"
     ],
     "language": "python",
     "metadata": {},
     "outputs": [
      {
       "latex": [
        "$\\left( \\begin{pmatrix} 1 & 0 & 0 & 0 \\\\ 0 & 1 & 0 & 0 \\\\ 0 & 0 & 1 & 0 \\\\ 0 & 0 & 0 & 1\\end{pmatrix}, \\begin{pmatrix}  \\sqrt{\\kappa} {a_{{{\\rm 2}}}} \\\\  \\sqrt{\\gamma} {\\sigma_{{\\rm g},{\\rm e}}^{{{\\rm 1}}}} \\\\  \\alpha X \\\\  \\beta X\\end{pmatrix},  \\Delta {\\Pi_{{\\rm e}}^{{{\\rm 1}}}} +  i g \\left({\\sigma_{{\\rm e},{\\rm g}}^{{{\\rm 1}}}} {a_{{{\\rm 2}}}} - {\\sigma_{{\\rm g},{\\rm e}}^{{{\\rm 1}}}} {a_{{{\\rm 2}}}^\\dagger}\\right) + H_2 +  \\Theta {a_{{{\\rm 2}}}^\\dagger} {a_{{{\\rm 2}}}} \\right)$"
       ],
       "metadata": {},
       "output_type": "pyout",
       "prompt_number": 543,
       "text": [
        "SLH(Matrix([[1, 0, 0, 0], [0, 1, 0, 0], [0, 0, 1, 0], [0, 0, 0, 1]]), Matrix([[ScalarTimesOperator(sqrt(kappa), Destroy(LocalSpace('2', '')))], [ScalarTimesOperator(sqrt(gamma), LocalSigma(LocalSpace('1', ''), 'g', 'e'))], [ScalarTimesOperator(alpha, OperatorSymbol('X', LocalSpace('3', '')))], [ScalarTimesOperator(beta, OperatorSymbol('X', LocalSpace('3', '')))]]), OperatorPlus(ScalarTimesOperator(Delta, LocalSigma(LocalSpace('1', ''), 'e', 'e')), ScalarTimesOperator(I*g, OperatorPlus(OperatorTimes(LocalSigma(LocalSpace('1', ''), 'e', 'g'), Destroy(LocalSpace('2', ''))), ScalarTimesOperator(-1, OperatorTimes(LocalSigma(LocalSpace('1', ''), 'g', 'e'), Create(LocalSpace('2', '')))))), OperatorSymbol('H_2', LocalSpace('3', '')), ScalarTimesOperator(Theta, OperatorTimes(Create(LocalSpace('2', '')), Destroy(LocalSpace('2', ''))))))"
       ]
      }
     ],
     "prompt_number": 543
    },
    {
     "cell_type": "code",
     "collapsed": false,
     "input": [
      "slh << slh2"
     ],
     "language": "python",
     "metadata": {},
     "outputs": [
      {
       "latex": [
        "$\\left( \\begin{pmatrix} 1 & 0 \\\\ 0 & 1\\end{pmatrix}, \\begin{pmatrix}  \\sqrt{\\kappa} {a_{{{\\rm 2}}}} +  \\alpha X \\\\  \\sqrt{\\gamma} {\\sigma_{{\\rm g},{\\rm e}}^{{{\\rm 1}}}} +  \\beta X\\end{pmatrix},  \\Delta {\\Pi_{{\\rm e}}^{{{\\rm 1}}}} +  i g \\left({\\sigma_{{\\rm e},{\\rm g}}^{{{\\rm 1}}}} {a_{{{\\rm 2}}}} - {\\sigma_{{\\rm g},{\\rm e}}^{{{\\rm 1}}}} {a_{{{\\rm 2}}}^\\dagger}\\right) +  \\frac{i}{2} \\left( - \\alpha \\sqrt{\\kappa} {a_{{{\\rm 2}}}^\\dagger} X +  \\beta \\sqrt{\\gamma} {\\sigma_{{\\rm e},{\\rm g}}^{{{\\rm 1}}}} X +  \\sqrt{\\kappa} \\overline{\\alpha} {a_{{{\\rm 2}}}} \\left(X\\right)^\\dagger +  \\sqrt{\\gamma} \\overline{\\beta} {\\sigma_{{\\rm g},{\\rm e}}^{{{\\rm 1}}}} \\left(X\\right)^\\dagger\\right) + H_2 +  \\Theta {a_{{{\\rm 2}}}^\\dagger} {a_{{{\\rm 2}}}} \\right)$"
       ],
       "metadata": {},
       "output_type": "pyout",
       "prompt_number": 544,
       "text": [
        "SLH(Matrix([[1, 0], [0, 1]]), Matrix([[OperatorPlus(ScalarTimesOperator(sqrt(kappa), Destroy(LocalSpace('2', ''))), ScalarTimesOperator(alpha, OperatorSymbol('X', LocalSpace('3', ''))))], [OperatorPlus(ScalarTimesOperator(sqrt(gamma), LocalSigma(LocalSpace('1', ''), 'g', 'e')), ScalarTimesOperator(beta, OperatorSymbol('X', LocalSpace('3', ''))))]]), OperatorPlus(ScalarTimesOperator(Delta, LocalSigma(LocalSpace('1', ''), 'e', 'e')), ScalarTimesOperator(I*g, OperatorPlus(OperatorTimes(LocalSigma(LocalSpace('1', ''), 'e', 'g'), Destroy(LocalSpace('2', ''))), ScalarTimesOperator(-1, OperatorTimes(LocalSigma(LocalSpace('1', ''), 'g', 'e'), Create(LocalSpace('2', '')))))), ScalarTimesOperator(I/2, OperatorPlus(ScalarTimesOperator(-1, OperatorPlus(ScalarTimesOperator(alpha*sqrt(kappa), OperatorTimes(Create(LocalSpace('2', '')), OperatorSymbol('X', LocalSpace('3', '')))), ScalarTimesOperator(beta*sqrt(gamma), OperatorTimes(LocalSigma(LocalSpace('1', ''), 'e', 'g'), OperatorSymbol('X', LocalSpace('3', '')))))), ScalarTimesOperator(sqrt(kappa)*conjugate(alpha), OperatorTimes(Destroy(LocalSpace('2', '')), Adjoint(OperatorSymbol('X', LocalSpace('3', ''))))), ScalarTimesOperator(sqrt(gamma)*conjugate(beta), OperatorTimes(LocalSigma(LocalSpace('1', ''), 'g', 'e'), Adjoint(OperatorSymbol('X', LocalSpace('3', ''))))))), OperatorSymbol('H_2', LocalSpace('3', '')), ScalarTimesOperator(Theta, OperatorTimes(Create(LocalSpace('2', '')), Destroy(LocalSpace('2', ''))))))"
       ]
      }
     ],
     "prompt_number": 544
    },
    {
     "cell_type": "code",
     "collapsed": false,
     "input": [
      "slh2.feedback(0, 1)"
     ],
     "language": "python",
     "metadata": {},
     "outputs": [
      {
       "latex": [
        "$\\left( \\begin{pmatrix} 1\\end{pmatrix}, \\begin{pmatrix}  \\left(\\alpha + \\beta\\right) X\\end{pmatrix}, H_2 +  \\frac{i}{2} \\left(- \\alpha \\overline{\\beta} + \\beta \\overline{\\alpha}\\right) \\left(X\\right)^\\dagger X \\right)$"
       ],
       "metadata": {},
       "output_type": "pyout",
       "prompt_number": 545,
       "text": [
        "SLH(Matrix([[1]]), Matrix([[ScalarTimesOperator(alpha + beta, OperatorSymbol('X', LocalSpace('3', '')))]]), OperatorPlus(OperatorSymbol('H_2', LocalSpace('3', '')), ScalarTimesOperator(I*(-alpha*conjugate(beta) + beta*conjugate(alpha))/2, OperatorTimes(Adjoint(OperatorSymbol('X', LocalSpace('3', ''))), OperatorSymbol('X', LocalSpace('3', ''))))))"
       ]
      }
     ],
     "prompt_number": 545
    },
    {
     "cell_type": "heading",
     "level": 2,
     "metadata": {},
     "source": [
      "Parsing a circuit file"
     ]
    },
    {
     "cell_type": "code",
     "collapsed": false,
     "input": [
      "!/Users/nikolas/Projects/QNET/bin/parse_qhdl.py -l -f /Users/nikolas/Projects/QNET/examples/qhdl/KerrAmplifier.qhdl"
     ],
     "language": "python",
     "metadata": {},
     "outputs": [
      {
       "output_type": "stream",
       "stream": "stdout",
       "text": [
        "/* -------------------------------------\r\n",
        "----------------------------------------\r\n",
        "Found entities:\r\n",
        "\tKerrAmplifier\r\n",
        "----------------------------------------\r\n",
        "----------------------------------------\r\n",
        "Found architectures:\r\n",
        "\tnetlist\r\n",
        "----------------------------------------\r\n",
        "Creating algebraic Circuit expressions for all architectures...\r\n"
       ]
      },
      {
       "output_type": "stream",
       "stream": "stdout",
       "text": [
        "Circuit for entity 'netlist':\r\n",
        "(((BS2 + cid(1)) << P_sigma(0, 2, 1) << (K2 + cid(1))) + cid(1)) << (cid(2) + K1) << ((P_sigma(0, 2, 1) << ((P_sigma(1, 0) << BS1) + cid(1))) + cid(1)) << P_sigma(1, 0, 2, 3)\r\n",
        "----------------------------------------\r\n",
        "Python representation:\r\n",
        "SeriesProduct(Concatenation(SeriesProduct(Concatenation(CircuitSymbol('BS2', 2), CIdentity), CPermutation((0, 2, 1)), Concatenation(CircuitSymbol('K2', 2), CIdentity)), CIdentity), Concatenation(CIdentity, CIdentity, CircuitSymbol('K1', 2)), Concatenation(SeriesProduct(CPermutation((0, 2, 1)), Concatenation(SeriesProduct(CPermutation((1, 0)), CircuitSymbol('BS1', 2)), CIdentity)), CIdentity), CPermutation((1, 0, 2, 3)))\r\n",
        "----------------------------------------\r\n",
        "LaTeX expression\r\n",
        "\\left((\\left(BS2 \\boxplus \\mathbf{1}_{1}\\right) \\lhd {\\mathbf{P}_\\sigma \\begin{pmatrix} 0 & 1 & 2 \\\\ 0 & 2 & 1 \\end{pmatrix}} \\lhd \\left(K2 \\boxplus \\mathbf{1}_{1}\\right)) \\boxplus \\mathbf{1}_{1}\\right) \\lhd \\left(\\mathbf{1}_{2} \\boxplus K1\\right) \\lhd \\left(({\\mathbf{P}_\\sigma \\begin{pmatrix} 0 & 1 & 2 \\\\ 0 & 2 & 1 \\end{pmatrix}} \\lhd \\left(({\\mathbf{P}_\\sigma \\begin{pmatrix} 0 & 1 \\\\ 1 & 0 \\end{pmatrix}} \\lhd {BS1}) \\boxplus \\mathbf{1}_{1}\\right)) \\boxplus \\mathbf{1}_{1}\\right) \\lhd {\\mathbf{P}_\\sigma \\begin{pmatrix} 0 & 1 & 2 & 3 \\\\ 1 & 0 & 2 & 3 \\end{pmatrix}}\r\n",
        "----------------------------------------\r\n",
        "Creating local python module...\r\n",
        "Wrote kerr_amplifier_cc.py\r\n",
        "----------------------------------------\r\n"
       ]
      }
     ],
     "prompt_number": 549
    },
    {
     "cell_type": "code",
     "collapsed": false,
     "input": [
      "lsres = !ls \n",
      "lsres"
     ],
     "language": "python",
     "metadata": {},
     "outputs": [
      {
       "metadata": {},
       "output_type": "pyout",
       "prompt_number": 550,
       "text": [
        "['QNET.ipynb',\n",
        " 'kerr_amplifier_cc.py',\n",
        " 'kerr_amplifier_cc.py.backup_0',\n",
        " 'kerr_amplifier_cc.py.backup_1',\n",
        " 'kerr_amplifier_cc.py.backup_2',\n",
        " 'kerr_amplifier_cc.pyc',\n",
        " 'tmpTTNPqc.dvi',\n",
        " 'tmpTTNPqc.log']"
       ]
      }
     ],
     "prompt_number": 550
    },
    {
     "cell_type": "code",
     "collapsed": false,
     "input": [
      "from kerr_amplifier_cc import KerrAmplifier"
     ],
     "language": "python",
     "metadata": {},
     "outputs": [],
     "prompt_number": 551
    },
    {
     "cell_type": "code",
     "collapsed": false,
     "input": [
      "KerrAmplifier??"
     ],
     "language": "python",
     "metadata": {},
     "outputs": [],
     "prompt_number": 553
    },
    {
     "cell_type": "code",
     "collapsed": false,
     "input": [
      "kappa = symbols('kappa', positive = True)\n",
      "eta = symbols('eta', positive = True)\n",
      "Delta = symbols('Delta', real = True)\n",
      "chi = symbols('chi', real = True)"
     ],
     "language": "python",
     "metadata": {},
     "outputs": []
    },
    {
     "cell_type": "code",
     "collapsed": false,
     "input": [
      "K = KerrAmplifier(\"K\", kappa=kappa, eta=eta, Delta=Delta, chi=chi)\n",
      "K"
     ],
     "language": "python",
     "metadata": {},
     "outputs": [
      {
       "latex": [
        "${\\rm K}$"
       ],
       "metadata": {},
       "output_type": "pyout",
       "prompt_number": 554,
       "text": [
        "KerrAmplifier('K','', chi=chi, eta=eta, kappa=kappa, Delta=Delta)"
       ]
      }
     ],
     "prompt_number": 554
    },
    {
     "cell_type": "code",
     "collapsed": false,
     "input": [
      "K.creduce()"
     ],
     "language": "python",
     "metadata": {},
     "outputs": [
      {
       "latex": [
        "$\\left((\\left({\\rm K.BS2} \\boxplus \\mathbf{1}_{1}\\right) \\lhd {\\mathbf{P}_\\sigma \\begin{pmatrix} 0 & 1 & 2 \\\\ 0 & 2 & 1 \\end{pmatrix}} \\lhd \\left({\\rm K.K2} \\boxplus \\mathbf{1}_{1}\\right)) \\boxplus \\mathbf{1}_{1}\\right) \\lhd \\left(\\mathbf{1}_{2} \\boxplus {\\rm K.K1}\\right) \\lhd \\left(({\\mathbf{P}_\\sigma \\begin{pmatrix} 0 & 1 & 2 \\\\ 0 & 2 & 1 \\end{pmatrix}} \\lhd \\left(({\\mathbf{P}_\\sigma \\begin{pmatrix} 0 & 1 \\\\ 1 & 0 \\end{pmatrix}} \\lhd {{\\rm K.BS1}}) \\boxplus \\mathbf{1}_{1}\\right)) \\boxplus \\mathbf{1}_{1}\\right) \\lhd {\\mathbf{P}_\\sigma \\begin{pmatrix} 0 & 1 & 2 & 3 \\\\ 1 & 0 & 2 & 3 \\end{pmatrix}}$"
       ],
       "metadata": {},
       "output_type": "pyout",
       "prompt_number": 555,
       "text": [
        "SeriesProduct(Concatenation(SeriesProduct(Concatenation(Beamsplitter('K.BS2',''), CIdentity), CPermutation((0, 2, 1)), Concatenation(TwoPortKerrCavity('K.K2','', kappa_2=eta, kappa_1=kappa, Delta=Delta, chi=chi), CIdentity)), CIdentity), Concatenation(CIdentity, CIdentity, TwoPortKerrCavity('K.K1','', kappa_2=eta, kappa_1=kappa, Delta=Delta, chi=chi)), Concatenation(SeriesProduct(CPermutation((0, 2, 1)), Concatenation(SeriesProduct(CPermutation((1, 0)), Beamsplitter('K.BS1','')), CIdentity)), CIdentity), CPermutation((1, 0, 2, 3)))"
       ]
      }
     ],
     "prompt_number": 555
    },
    {
     "cell_type": "code",
     "collapsed": false,
     "input": [
      "K.creduce().creduce().show()"
     ],
     "language": "python",
     "metadata": {},
     "outputs": [
      {
       "metadata": {},
       "output_type": "display_data",
       "png": "[encoded data removed]",
       "text": [
        "<IPython.core.display.Image at 0x110cba150>"
       ]
      }
     ],
     "prompt_number": 559
    },
    {
     "cell_type": "code",
     "collapsed": false,
     "input": [
      "KSLH = K.toSLH()\n",
      "KSLH"
     ],
     "language": "python",
     "metadata": {},
     "outputs": [
      {
       "latex": [
        "$\\left( \\begin{pmatrix} 1 & 0 & 0 & 0 \\\\ 0 & 1 & 0 & 0 \\\\ 0 & 0 & 1 & 0 \\\\ 0 & 0 & 0 & 1\\end{pmatrix}, \\begin{pmatrix}  - \\frac{\\sqrt{2} \\sqrt{\\kappa}}{2} {a_{{{\\rm K.K1}}}} +  \\frac{\\sqrt{2} \\sqrt{\\kappa}}{2} {a_{{{\\rm K.K2}}}} \\\\  \\frac{\\sqrt{2} \\sqrt{\\kappa}}{2} {a_{{{\\rm K.K1}}}} +  \\frac{\\sqrt{2} \\sqrt{\\kappa}}{2} {a_{{{\\rm K.K2}}}} \\\\  \\sqrt{\\eta} {a_{{{\\rm K.K2}}}} \\\\  \\sqrt{\\eta} {a_{{{\\rm K.K1}}}}\\end{pmatrix},  \\chi {a_{{{\\rm K.K1}}}^\\dagger} {a_{{{\\rm K.K1}}}^\\dagger} {a_{{{\\rm K.K1}}}} {a_{{{\\rm K.K1}}}} +  \\Delta {a_{{{\\rm K.K1}}}^\\dagger} {a_{{{\\rm K.K1}}}} +  \\chi {a_{{{\\rm K.K2}}}^\\dagger} {a_{{{\\rm K.K2}}}^\\dagger} {a_{{{\\rm K.K2}}}} {a_{{{\\rm K.K2}}}} +  \\Delta {a_{{{\\rm K.K2}}}^\\dagger} {a_{{{\\rm K.K2}}}} \\right)$"
       ],
       "metadata": {},
       "output_type": "pyout",
       "prompt_number": 560,
       "text": [
        "SLH(Matrix([[1, 0, 0, 0], [0, 1, 0, 0], [0, 0, 1, 0], [0, 0, 0, 1]]), Matrix([[OperatorPlus(ScalarTimesOperator(-sqrt(2)*sqrt(kappa)/2, Destroy(LocalSpace('K.K1', ''))), ScalarTimesOperator(sqrt(2)*sqrt(kappa)/2, Destroy(LocalSpace('K.K2', ''))))], [OperatorPlus(ScalarTimesOperator(sqrt(2)*sqrt(kappa)/2, Destroy(LocalSpace('K.K1', ''))), ScalarTimesOperator(sqrt(2)*sqrt(kappa)/2, Destroy(LocalSpace('K.K2', ''))))], [ScalarTimesOperator(sqrt(eta), Destroy(LocalSpace('K.K2', '')))], [ScalarTimesOperator(sqrt(eta), Destroy(LocalSpace('K.K1', '')))]]), OperatorPlus(ScalarTimesOperator(chi, OperatorTimes(Create(LocalSpace('K.K1', '')), Create(LocalSpace('K.K1', '')), Destroy(LocalSpace('K.K1', '')), Destroy(LocalSpace('K.K1', '')))), ScalarTimesOperator(Delta, OperatorTimes(Create(LocalSpace('K.K1', '')), Destroy(LocalSpace('K.K1', '')))), ScalarTimesOperator(chi, OperatorTimes(Create(LocalSpace('K.K2', '')), Create(LocalSpace('K.K2', '')), Destroy(LocalSpace('K.K2', '')), Destroy(LocalSpace('K.K2', '')))), ScalarTimesOperator(Delta, OperatorTimes(Create(LocalSpace('K.K2', '')), Destroy(LocalSpace('K.K2', ''))))))"
       ]
      }
     ],
     "prompt_number": 560
    },
    {
     "cell_type": "heading",
     "level": 2,
     "metadata": {},
     "source": [
      "Symbolic equations of motion"
     ]
    },
    {
     "cell_type": "code",
     "collapsed": false,
     "input": [
      "a1, a2 = [Destroy(s) for s in K.space.local_factors()]\n",
      "display(a1, a2)"
     ],
     "language": "python",
     "metadata": {},
     "outputs": [
      {
       "latex": [
        "${a_{{{\\rm K.K1}}}}$"
       ],
       "metadata": {},
       "output_type": "display_data",
       "text": [
        "Destroy(LocalSpace('K.K1', ''))"
       ]
      },
      {
       "latex": [
        "${a_{{{\\rm K.K2}}}}$"
       ],
       "metadata": {},
       "output_type": "display_data",
       "text": [
        "Destroy(LocalSpace('K.K2', ''))"
       ]
      }
     ],
     "prompt_number": 561
    },
    {
     "cell_type": "code",
     "collapsed": false,
     "input": [
      "KSLH.symbolic_heisenberg_eom(a1)"
     ],
     "language": "python",
     "metadata": {},
     "outputs": [
      {
       "latex": [
        "$ - \\frac{1}{2} \\left({a_{{{\\rm K.K1}}}} \\left( - \\frac{\\sqrt{2} \\sqrt{\\kappa}}{2} {a_{{{\\rm K.K1}}}^\\dagger} +  \\frac{\\sqrt{2} \\sqrt{\\kappa}}{2} {a_{{{\\rm K.K2}}}^\\dagger}\\right)  \\left( - \\frac{\\sqrt{2} \\sqrt{\\kappa}}{2} {a_{{{\\rm K.K1}}}} +  \\frac{\\sqrt{2} \\sqrt{\\kappa}}{2} {a_{{{\\rm K.K2}}}}\\right)  +  - \\frac{\\sqrt{2} \\sqrt{\\kappa}}{2} {a_{{{\\rm K.K1}}}^\\dagger} +  \\frac{\\sqrt{2} \\sqrt{\\kappa}}{2} {a_{{{\\rm K.K2}}}^\\dagger} \\left( - \\frac{\\sqrt{2} \\sqrt{\\kappa}}{2} {a_{{{\\rm K.K1}}}} +  \\frac{\\sqrt{2} \\sqrt{\\kappa}}{2} {a_{{{\\rm K.K2}}}}\\right)  {a_{{{\\rm K.K1}}}}\\right) -  \\frac{1}{2} \\left({a_{{{\\rm K.K1}}}} \\left( \\frac{\\sqrt{2} \\sqrt{\\kappa}}{2} {a_{{{\\rm K.K1}}}^\\dagger} +  \\frac{\\sqrt{2} \\sqrt{\\kappa}}{2} {a_{{{\\rm K.K2}}}^\\dagger}\\right)  \\left( \\frac{\\sqrt{2} \\sqrt{\\kappa}}{2} {a_{{{\\rm K.K1}}}} +  \\frac{\\sqrt{2} \\sqrt{\\kappa}}{2} {a_{{{\\rm K.K2}}}}\\right)  +  \\frac{\\sqrt{2} \\sqrt{\\kappa}}{2} {a_{{{\\rm K.K1}}}^\\dagger} +  \\frac{\\sqrt{2} \\sqrt{\\kappa}}{2} {a_{{{\\rm K.K2}}}^\\dagger} \\left( \\frac{\\sqrt{2} \\sqrt{\\kappa}}{2} {a_{{{\\rm K.K1}}}} +  \\frac{\\sqrt{2} \\sqrt{\\kappa}}{2} {a_{{{\\rm K.K2}}}}\\right)  {a_{{{\\rm K.K1}}}}\\right) -  \\frac{1}{2} \\left( \\eta {a_{{{\\rm K.K1}}}^\\dagger} {a_{{{\\rm K.K1}}}} {a_{{{\\rm K.K1}}}} +  \\eta 1 + {a_{{{\\rm K.K1}}}^\\dagger} {a_{{{\\rm K.K1}}}} {a_{{{\\rm K.K1}}}}\\right) +  i \\left( -{a_{{{\\rm K.K1}}}} \\left( \\chi {a_{{{\\rm K.K1}}}^\\dagger} {a_{{{\\rm K.K1}}}^\\dagger} {a_{{{\\rm K.K1}}}} {a_{{{\\rm K.K1}}}} +  \\Delta {a_{{{\\rm K.K1}}}^\\dagger} {a_{{{\\rm K.K1}}}} +  \\chi {a_{{{\\rm K.K2}}}^\\dagger} {a_{{{\\rm K.K2}}}^\\dagger} {a_{{{\\rm K.K2}}}} {a_{{{\\rm K.K2}}}} +  \\Delta {a_{{{\\rm K.K2}}}^\\dagger} {a_{{{\\rm K.K2}}}}\\right)  +  \\chi {a_{{{\\rm K.K1}}}^\\dagger} {a_{{{\\rm K.K1}}}^\\dagger} {a_{{{\\rm K.K1}}}} {a_{{{\\rm K.K1}}}} +  \\Delta {a_{{{\\rm K.K1}}}^\\dagger} {a_{{{\\rm K.K1}}}} +  \\chi {a_{{{\\rm K.K2}}}^\\dagger} {a_{{{\\rm K.K2}}}^\\dagger} {a_{{{\\rm K.K2}}}} {a_{{{\\rm K.K2}}}} +  \\Delta {a_{{{\\rm K.K2}}}^\\dagger} {a_{{{\\rm K.K2}}}} {a_{{{\\rm K.K1}}}}\\right) +  \\eta {a_{{{\\rm K.K1}}}^\\dagger} {a_{{{\\rm K.K1}}}} {a_{{{\\rm K.K1}}}} +  - \\frac{\\sqrt{2} \\sqrt{\\kappa}}{2} {a_{{{\\rm K.K1}}}^\\dagger} +  \\frac{\\sqrt{2} \\sqrt{\\kappa}}{2} {a_{{{\\rm K.K2}}}^\\dagger} {a_{{{\\rm K.K1}}}} \\left( - \\frac{\\sqrt{2} \\sqrt{\\kappa}}{2} {a_{{{\\rm K.K1}}}} +  \\frac{\\sqrt{2} \\sqrt{\\kappa}}{2} {a_{{{\\rm K.K2}}}}\\right)  +  \\frac{\\sqrt{2} \\sqrt{\\kappa}}{2} {a_{{{\\rm K.K1}}}^\\dagger} +  \\frac{\\sqrt{2} \\sqrt{\\kappa}}{2} {a_{{{\\rm K.K2}}}^\\dagger} {a_{{{\\rm K.K1}}}} \\left( \\frac{\\sqrt{2} \\sqrt{\\kappa}}{2} {a_{{{\\rm K.K1}}}} +  \\frac{\\sqrt{2} \\sqrt{\\kappa}}{2} {a_{{{\\rm K.K2}}}}\\right) $"
       ],
       "metadata": {},
       "output_type": "pyout",
       "prompt_number": 563,
       "text": [
        "OperatorPlus(ScalarTimesOperator(-1/2, OperatorPlus(OperatorTimes(Destroy(LocalSpace('K.K1', '')), OperatorPlus(ScalarTimesOperator(-sqrt(2)*sqrt(kappa)/2, Create(LocalSpace('K.K1', ''))), ScalarTimesOperator(sqrt(2)*sqrt(kappa)/2, Create(LocalSpace('K.K2', '')))), OperatorPlus(ScalarTimesOperator(-sqrt(2)*sqrt(kappa)/2, Destroy(LocalSpace('K.K1', ''))), ScalarTimesOperator(sqrt(2)*sqrt(kappa)/2, Destroy(LocalSpace('K.K2', ''))))), OperatorTimes(OperatorPlus(ScalarTimesOperator(-sqrt(2)*sqrt(kappa)/2, Create(LocalSpace('K.K1', ''))), ScalarTimesOperator(sqrt(2)*sqrt(kappa)/2, Create(LocalSpace('K.K2', '')))), OperatorPlus(ScalarTimesOperator(-sqrt(2)*sqrt(kappa)/2, Destroy(LocalSpace('K.K1', ''))), ScalarTimesOperator(sqrt(2)*sqrt(kappa)/2, Destroy(LocalSpace('K.K2', '')))), Destroy(LocalSpace('K.K1', ''))))), ScalarTimesOperator(-1/2, OperatorPlus(OperatorTimes(Destroy(LocalSpace('K.K1', '')), OperatorPlus(ScalarTimesOperator(sqrt(2)*sqrt(kappa)/2, Create(LocalSpace('K.K1', ''))), ScalarTimesOperator(sqrt(2)*sqrt(kappa)/2, Create(LocalSpace('K.K2', '')))), OperatorPlus(ScalarTimesOperator(sqrt(2)*sqrt(kappa)/2, Destroy(LocalSpace('K.K1', ''))), ScalarTimesOperator(sqrt(2)*sqrt(kappa)/2, Destroy(LocalSpace('K.K2', ''))))), OperatorTimes(OperatorPlus(ScalarTimesOperator(sqrt(2)*sqrt(kappa)/2, Create(LocalSpace('K.K1', ''))), ScalarTimesOperator(sqrt(2)*sqrt(kappa)/2, Create(LocalSpace('K.K2', '')))), OperatorPlus(ScalarTimesOperator(sqrt(2)*sqrt(kappa)/2, Destroy(LocalSpace('K.K1', ''))), ScalarTimesOperator(sqrt(2)*sqrt(kappa)/2, Destroy(LocalSpace('K.K2', '')))), Destroy(LocalSpace('K.K1', ''))))), ScalarTimesOperator(-1/2, OperatorPlus(ScalarTimesOperator(eta, OperatorTimes(Create(LocalSpace('K.K1', '')), Destroy(LocalSpace('K.K1', '')), Destroy(LocalSpace('K.K1', '')))), ScalarTimesOperator(eta, OperatorTimes(OperatorPlus(IdentityOperator, OperatorTimes(Create(LocalSpace('K.K1', '')), Destroy(LocalSpace('K.K1', '')))), Destroy(LocalSpace('K.K1', '')))))), ScalarTimesOperator(I, OperatorPlus(ScalarTimesOperator(-1, OperatorTimes(Destroy(LocalSpace('K.K1', '')), OperatorPlus(ScalarTimesOperator(chi, OperatorTimes(Create(LocalSpace('K.K1', '')), Create(LocalSpace('K.K1', '')), Destroy(LocalSpace('K.K1', '')), Destroy(LocalSpace('K.K1', '')))), ScalarTimesOperator(Delta, OperatorTimes(Create(LocalSpace('K.K1', '')), Destroy(LocalSpace('K.K1', '')))), ScalarTimesOperator(chi, OperatorTimes(Create(LocalSpace('K.K2', '')), Create(LocalSpace('K.K2', '')), Destroy(LocalSpace('K.K2', '')), Destroy(LocalSpace('K.K2', '')))), ScalarTimesOperator(Delta, OperatorTimes(Create(LocalSpace('K.K2', '')), Destroy(LocalSpace('K.K2', ''))))))), OperatorTimes(OperatorPlus(ScalarTimesOperator(chi, OperatorTimes(Create(LocalSpace('K.K1', '')), Create(LocalSpace('K.K1', '')), Destroy(LocalSpace('K.K1', '')), Destroy(LocalSpace('K.K1', '')))), ScalarTimesOperator(Delta, OperatorTimes(Create(LocalSpace('K.K1', '')), Destroy(LocalSpace('K.K1', '')))), ScalarTimesOperator(chi, OperatorTimes(Create(LocalSpace('K.K2', '')), Create(LocalSpace('K.K2', '')), Destroy(LocalSpace('K.K2', '')), Destroy(LocalSpace('K.K2', '')))), ScalarTimesOperator(Delta, OperatorTimes(Create(LocalSpace('K.K2', '')), Destroy(LocalSpace('K.K2', ''))))), Destroy(LocalSpace('K.K1', ''))))), ScalarTimesOperator(eta, OperatorTimes(Create(LocalSpace('K.K1', '')), Destroy(LocalSpace('K.K1', '')), Destroy(LocalSpace('K.K1', '')))), OperatorTimes(OperatorPlus(ScalarTimesOperator(-sqrt(2)*sqrt(kappa)/2, Create(LocalSpace('K.K1', ''))), ScalarTimesOperator(sqrt(2)*sqrt(kappa)/2, Create(LocalSpace('K.K2', '')))), Destroy(LocalSpace('K.K1', '')), OperatorPlus(ScalarTimesOperator(-sqrt(2)*sqrt(kappa)/2, Destroy(LocalSpace('K.K1', ''))), ScalarTimesOperator(sqrt(2)*sqrt(kappa)/2, Destroy(LocalSpace('K.K2', ''))))), OperatorTimes(OperatorPlus(ScalarTimesOperator(sqrt(2)*sqrt(kappa)/2, Create(LocalSpace('K.K1', ''))), ScalarTimesOperator(sqrt(2)*sqrt(kappa)/2, Create(LocalSpace('K.K2', '')))), Destroy(LocalSpace('K.K1', '')), OperatorPlus(ScalarTimesOperator(sqrt(2)*sqrt(kappa)/2, Destroy(LocalSpace('K.K1', ''))), ScalarTimesOperator(sqrt(2)*sqrt(kappa)/2, Destroy(LocalSpace('K.K2', ''))))))"
       ]
      }
     ],
     "prompt_number": 563
    },
    {
     "cell_type": "code",
     "collapsed": false,
     "input": [
      "KSLH.symbolic_heisenberg_eom(a1).expand().simplify_scalar()"
     ],
     "language": "python",
     "metadata": {},
     "outputs": [
      {
       "latex": [
        "$ - \\left(i \\Delta + \\frac{\\eta}{2} + \\frac{\\kappa}{2}\\right) {a_{{{\\rm K.K1}}}} -  2 i \\chi {a_{{{\\rm K.K1}}}^\\dagger} {a_{{{\\rm K.K1}}}} {a_{{{\\rm K.K1}}}}$"
       ],
       "metadata": {},
       "output_type": "pyout",
       "prompt_number": 564,
       "text": [
        "OperatorPlus(ScalarTimesOperator(-I*Delta - eta/2 - kappa/2, Destroy(LocalSpace('K.K1', ''))), ScalarTimesOperator(-2*I*chi, OperatorTimes(Create(LocalSpace('K.K1', '')), Destroy(LocalSpace('K.K1', '')), Destroy(LocalSpace('K.K1', '')))))"
       ]
      }
     ],
     "prompt_number": 564
    },
    {
     "cell_type": "code",
     "collapsed": false,
     "input": [
      "KSLH.symbolic_heisenberg_eom(a2).expand().simplify_scalar()"
     ],
     "language": "python",
     "metadata": {},
     "outputs": [
      {
       "latex": [
        "$ - \\left(i \\Delta + \\frac{\\eta}{2} + \\frac{\\kappa}{2}\\right) {a_{{{\\rm K.K2}}}} -  2 i \\chi {a_{{{\\rm K.K2}}}^\\dagger} {a_{{{\\rm K.K2}}}} {a_{{{\\rm K.K2}}}}$"
       ],
       "metadata": {},
       "output_type": "pyout",
       "prompt_number": 565,
       "text": [
        "OperatorPlus(ScalarTimesOperator(-I*Delta - eta/2 - kappa/2, Destroy(LocalSpace('K.K2', ''))), ScalarTimesOperator(-2*I*chi, OperatorTimes(Create(LocalSpace('K.K2', '')), Destroy(LocalSpace('K.K2', '')), Destroy(LocalSpace('K.K2', '')))))"
       ]
      }
     ],
     "prompt_number": 565
    },
    {
     "cell_type": "code",
     "collapsed": false,
     "input": [
      "noises = [OperatorSymbol(r\"b_{{{}}}\".format(jj), \"n{}\".format(jj)) for jj in range(KSLH.cdim)]\n",
      "display(*noises)"
     ],
     "language": "python",
     "metadata": {},
     "outputs": [
      {
       "latex": [
        "$b_{0}$"
       ],
       "metadata": {},
       "output_type": "display_data",
       "text": [
        "OperatorSymbol('b_{0}', LocalSpace('n0', ''))"
       ]
      },
      {
       "latex": [
        "$b_{1}$"
       ],
       "metadata": {},
       "output_type": "display_data",
       "text": [
        "OperatorSymbol('b_{1}', LocalSpace('n1', ''))"
       ]
      },
      {
       "latex": [
        "$b_{2}$"
       ],
       "metadata": {},
       "output_type": "display_data",
       "text": [
        "OperatorSymbol('b_{2}', LocalSpace('n2', ''))"
       ]
      },
      {
       "latex": [
        "$b_{3}$"
       ],
       "metadata": {},
       "output_type": "display_data",
       "text": [
        "OperatorSymbol('b_{3}', LocalSpace('n3', ''))"
       ]
      }
     ],
     "prompt_number": 572
    },
    {
     "cell_type": "code",
     "collapsed": false,
     "input": [
      "KSLH.symbolic_heisenberg_eom(a1, noises=noises).expand().simplify_scalar()"
     ],
     "language": "python",
     "metadata": {},
     "outputs": [
      {
       "latex": [
        "$ - \\left(i \\Delta + \\frac{\\eta}{2} + \\frac{\\kappa}{2}\\right) {a_{{{\\rm K.K1}}}} +  \\frac{\\sqrt{2} \\sqrt{\\kappa}}{2} b_{0} -  \\frac{\\sqrt{2} \\sqrt{\\kappa}}{2} b_{1} -  \\sqrt{\\eta} b_{3} -  2 i \\chi {a_{{{\\rm K.K1}}}^\\dagger} {a_{{{\\rm K.K1}}}} {a_{{{\\rm K.K1}}}}$"
       ],
       "metadata": {},
       "output_type": "pyout",
       "prompt_number": 573,
       "text": [
        "OperatorPlus(ScalarTimesOperator(-I*Delta - eta/2 - kappa/2, Destroy(LocalSpace('K.K1', ''))), ScalarTimesOperator(sqrt(2)*sqrt(kappa)/2, OperatorSymbol('b_{0}', LocalSpace('n0', ''))), ScalarTimesOperator(-sqrt(2)*sqrt(kappa)/2, OperatorSymbol('b_{1}', LocalSpace('n1', ''))), ScalarTimesOperator(-sqrt(eta), OperatorSymbol('b_{3}', LocalSpace('n3', ''))), ScalarTimesOperator(-2*I*chi, OperatorTimes(Create(LocalSpace('K.K1', '')), Destroy(LocalSpace('K.K1', '')), Destroy(LocalSpace('K.K1', '')))))"
       ]
      }
     ],
     "prompt_number": 573
    },
    {
     "cell_type": "heading",
     "level": 2,
     "metadata": {},
     "source": [
      "Semi-classical analysis, displace by mean-field"
     ]
    },
    {
     "cell_type": "code",
     "collapsed": false,
     "input": [
      "KSLH_in = KSLH.coherent_input(alpha, beta, 0, 0).expand().simplify_scalar()\n",
      "KSLH_in"
     ],
     "language": "python",
     "metadata": {},
     "outputs": [
      {
       "latex": [
        "$\\left( \\begin{pmatrix} 1 & 0 & 0 & 0 \\\\ 0 & 1 & 0 & 0 \\\\ 0 & 0 & 1 & 0 \\\\ 0 & 0 & 0 & 1\\end{pmatrix}, \\begin{pmatrix}  \\alpha -  \\frac{\\sqrt{2} \\sqrt{\\kappa}}{2} {a_{{{\\rm K.K1}}}} +  \\frac{\\sqrt{2} \\sqrt{\\kappa}}{2} {a_{{{\\rm K.K2}}}} \\\\  \\beta +  \\frac{\\sqrt{2} \\sqrt{\\kappa}}{2} {a_{{{\\rm K.K1}}}} +  \\frac{\\sqrt{2} \\sqrt{\\kappa}}{2} {a_{{{\\rm K.K2}}}} \\\\  \\sqrt{\\eta} {a_{{{\\rm K.K2}}}} \\\\  \\sqrt{\\eta} {a_{{{\\rm K.K1}}}}\\end{pmatrix},  \\frac{\\sqrt{2} i}{4} \\sqrt{\\kappa} \\left(\\alpha - \\beta\\right) {a_{{{\\rm K.K1}}}^\\dagger} -  \\frac{\\sqrt{2} i}{4} \\sqrt{\\kappa} \\left(\\alpha + \\beta\\right) {a_{{{\\rm K.K2}}}^\\dagger} +  \\frac{\\sqrt{2} i}{4} \\sqrt{\\kappa} \\left(- \\overline{\\alpha} + \\overline{\\beta}\\right) {a_{{{\\rm K.K1}}}} +  \\frac{\\sqrt{2} i}{4} \\sqrt{\\kappa} \\left(\\overline{\\alpha} + \\overline{\\beta}\\right) {a_{{{\\rm K.K2}}}} +  \\chi {a_{{{\\rm K.K1}}}^\\dagger} {a_{{{\\rm K.K1}}}^\\dagger} {a_{{{\\rm K.K1}}}} {a_{{{\\rm K.K1}}}} +  \\Delta {a_{{{\\rm K.K1}}}^\\dagger} {a_{{{\\rm K.K1}}}} +  \\chi {a_{{{\\rm K.K2}}}^\\dagger} {a_{{{\\rm K.K2}}}^\\dagger} {a_{{{\\rm K.K2}}}} {a_{{{\\rm K.K2}}}} +  \\Delta {a_{{{\\rm K.K2}}}^\\dagger} {a_{{{\\rm K.K2}}}} \\right)$"
       ],
       "metadata": {},
       "output_type": "pyout",
       "prompt_number": 574,
       "text": [
        "SLH(Matrix([[1, 0, 0, 0], [0, 1, 0, 0], [0, 0, 1, 0], [0, 0, 0, 1]]), Matrix([[OperatorPlus(ScalarTimesOperator(alpha, IdentityOperator), ScalarTimesOperator(-sqrt(2)*sqrt(kappa)/2, Destroy(LocalSpace('K.K1', ''))), ScalarTimesOperator(sqrt(2)*sqrt(kappa)/2, Destroy(LocalSpace('K.K2', ''))))], [OperatorPlus(ScalarTimesOperator(beta, IdentityOperator), ScalarTimesOperator(sqrt(2)*sqrt(kappa)/2, Destroy(LocalSpace('K.K1', ''))), ScalarTimesOperator(sqrt(2)*sqrt(kappa)/2, Destroy(LocalSpace('K.K2', ''))))], [ScalarTimesOperator(sqrt(eta), Destroy(LocalSpace('K.K2', '')))], [ScalarTimesOperator(sqrt(eta), Destroy(LocalSpace('K.K1', '')))]]), OperatorPlus(ScalarTimesOperator(sqrt(2)*I*sqrt(kappa)*(alpha - beta)/4, Create(LocalSpace('K.K1', ''))), ScalarTimesOperator(-sqrt(2)*I*sqrt(kappa)*(alpha + beta)/4, Create(LocalSpace('K.K2', ''))), ScalarTimesOperator(sqrt(2)*I*sqrt(kappa)*(-conjugate(alpha) + conjugate(beta))/4, Destroy(LocalSpace('K.K1', ''))), ScalarTimesOperator(sqrt(2)*I*sqrt(kappa)*(conjugate(alpha) + conjugate(beta))/4, Destroy(LocalSpace('K.K2', ''))), ScalarTimesOperator(chi, OperatorTimes(Create(LocalSpace('K.K1', '')), Create(LocalSpace('K.K1', '')), Destroy(LocalSpace('K.K1', '')), Destroy(LocalSpace('K.K1', '')))), ScalarTimesOperator(Delta, OperatorTimes(Create(LocalSpace('K.K1', '')), Destroy(LocalSpace('K.K1', '')))), ScalarTimesOperator(chi, OperatorTimes(Create(LocalSpace('K.K2', '')), Create(LocalSpace('K.K2', '')), Destroy(LocalSpace('K.K2', '')), Destroy(LocalSpace('K.K2', '')))), ScalarTimesOperator(Delta, OperatorTimes(Create(LocalSpace('K.K2', '')), Destroy(LocalSpace('K.K2', ''))))))"
       ]
      }
     ],
     "prompt_number": 574
    },
    {
     "cell_type": "code",
     "collapsed": false,
     "input": [
      "KSLH_in.symbolic_heisenberg_eom(a1).expand().simplify_scalar()"
     ],
     "language": "python",
     "metadata": {},
     "outputs": [
      {
       "latex": [
        "$ \\frac{\\sqrt{2} \\sqrt{\\kappa}}{2} \\left(\\alpha - \\beta\\right) -  \\left(i \\Delta + \\frac{\\eta}{2} + \\frac{\\kappa}{2}\\right) {a_{{{\\rm K.K1}}}} -  2 i \\chi {a_{{{\\rm K.K1}}}^\\dagger} {a_{{{\\rm K.K1}}}} {a_{{{\\rm K.K1}}}}$"
       ],
       "metadata": {},
       "output_type": "pyout",
       "prompt_number": 577,
       "text": [
        "OperatorPlus(ScalarTimesOperator(sqrt(2)*sqrt(kappa)*(alpha - beta)/2, IdentityOperator), ScalarTimesOperator(-I*Delta - eta/2 - kappa/2, Destroy(LocalSpace('K.K1', ''))), ScalarTimesOperator(-2*I*chi, OperatorTimes(Create(LocalSpace('K.K1', '')), Destroy(LocalSpace('K.K1', '')), Destroy(LocalSpace('K.K1', '')))))"
       ]
      }
     ],
     "prompt_number": 577
    },
    {
     "cell_type": "code",
     "collapsed": false,
     "input": [
      "KSLH_in.symbolic_heisenberg_eom(a2).expand().simplify_scalar()"
     ],
     "language": "python",
     "metadata": {},
     "outputs": [
      {
       "latex": [
        "$ - \\frac{\\sqrt{2} \\sqrt{\\kappa}}{2} \\left(\\alpha + \\beta\\right) -  \\left(i \\Delta + \\frac{\\eta}{2} + \\frac{\\kappa}{2}\\right) {a_{{{\\rm K.K2}}}} -  2 i \\chi {a_{{{\\rm K.K2}}}^\\dagger} {a_{{{\\rm K.K2}}}} {a_{{{\\rm K.K2}}}}$"
       ],
       "metadata": {},
       "output_type": "pyout",
       "prompt_number": 578,
       "text": [
        "OperatorPlus(ScalarTimesOperator(-sqrt(2)*sqrt(kappa)*(alpha + beta)/2, IdentityOperator), ScalarTimesOperator(-I*Delta - eta/2 - kappa/2, Destroy(LocalSpace('K.K2', ''))), ScalarTimesOperator(-2*I*chi, OperatorTimes(Create(LocalSpace('K.K2', '')), Destroy(LocalSpace('K.K2', '')), Destroy(LocalSpace('K.K2', '')))))"
       ]
      }
     ],
     "prompt_number": 578
    },
    {
     "cell_type": "code",
     "collapsed": false,
     "input": [
      "q1, p1, q2, p2 = symbols('q1, p1, q2, p2', real=True)\n",
      "KSLH_in_disp=KSLH_in.substitute({\n",
      "    a1: q1 + I * p1 + a1,\n",
      "    a1.dag(): q1 - I * p1 + a1.dag(),\n",
      "    a2: q2 + I * p2 + a2,\n",
      "    a2.dag(): q2 - I * p2 + a2.dag(),\n",
      "}).expand().simplify_scalar()\n",
      "KSLH_in_disp"
     ],
     "language": "python",
     "metadata": {},
     "outputs": [
      {
       "latex": [
        "$\\left( \\begin{pmatrix} 1 & 0 & 0 & 0 \\\\ 0 & 1 & 0 & 0 \\\\ 0 & 0 & 1 & 0 \\\\ 0 & 0 & 0 & 1\\end{pmatrix}, \\begin{pmatrix}  \\left(\\alpha - \\frac{\\sqrt{2} \\sqrt{\\kappa}}{2} \\left(i p_{1} + q_{1}\\right) + \\frac{\\sqrt{2} \\sqrt{\\kappa}}{2} \\left(i p_{2} + q_{2}\\right)\\right) -  \\frac{\\sqrt{2} \\sqrt{\\kappa}}{2} {a_{{{\\rm K.K1}}}} +  \\frac{\\sqrt{2} \\sqrt{\\kappa}}{2} {a_{{{\\rm K.K2}}}} \\\\  \\left(\\beta + \\frac{\\sqrt{2} \\sqrt{\\kappa}}{2} \\left(i p_{1} + q_{1}\\right) + \\frac{\\sqrt{2} \\sqrt{\\kappa}}{2} \\left(i p_{2} + q_{2}\\right)\\right) +  \\frac{\\sqrt{2} \\sqrt{\\kappa}}{2} {a_{{{\\rm K.K1}}}} +  \\frac{\\sqrt{2} \\sqrt{\\kappa}}{2} {a_{{{\\rm K.K2}}}} \\\\  \\sqrt{\\eta} \\left(i p_{2} + q_{2}\\right) +  \\sqrt{\\eta} {a_{{{\\rm K.K2}}}} \\\\  \\sqrt{\\eta} \\left(i p_{1} + q_{1}\\right) +  \\sqrt{\\eta} {a_{{{\\rm K.K1}}}}\\end{pmatrix},  - \\left(\\Delta \\left(i p_{1} - q_{1}\\right) \\left(i p_{1} + q_{1}\\right) + \\Delta \\left(i p_{2} - q_{2}\\right) \\left(i p_{2} + q_{2}\\right) - \\chi \\left(i p_{1} - q_{1}\\right)^{2} \\left(i p_{1} + q_{1}\\right)^{2} - \\chi \\left(i p_{2} - q_{2}\\right)^{2} \\left(i p_{2} + q_{2}\\right)^{2} + \\frac{\\sqrt{2} i}{4} \\sqrt{\\kappa} \\left(\\alpha - \\beta\\right) \\left(i p_{1} - q_{1}\\right) - \\frac{\\sqrt{2} i}{4} \\sqrt{\\kappa} \\left(\\alpha + \\beta\\right) \\left(i p_{2} - q_{2}\\right) + \\frac{\\sqrt{2} i}{4} \\sqrt{\\kappa} \\left(i p_{1} + q_{1}\\right) \\left(\\overline{\\alpha} - \\overline{\\beta}\\right) - \\frac{\\sqrt{2} i}{4} \\sqrt{\\kappa} \\left(i p_{2} + q_{2}\\right) \\left(\\overline{\\alpha} + \\overline{\\beta}\\right)\\right) +  \\left(\\Delta \\left(i p_{1} + q_{1}\\right) - 2 \\chi \\left(i p_{1} - q_{1}\\right) \\left(i p_{1} + q_{1}\\right)^{2} + \\frac{\\sqrt{2} i}{4} \\sqrt{\\kappa} \\left(\\alpha - \\beta\\right)\\right) {a_{{{\\rm K.K1}}}^\\dagger} +  \\left(\\Delta \\left(i p_{2} + q_{2}\\right) - 2 \\chi \\left(i p_{2} - q_{2}\\right) \\left(i p_{2} + q_{2}\\right)^{2} - \\frac{\\sqrt{2} i}{4} \\sqrt{\\kappa} \\left(\\alpha + \\beta\\right)\\right) {a_{{{\\rm K.K2}}}^\\dagger} -  \\left(\\Delta \\left(i p_{1} - q_{1}\\right) - 2 \\chi \\left(i p_{1} - q_{1}\\right)^{2} \\left(i p_{1} + q_{1}\\right) - \\frac{\\sqrt{2} i}{4} \\sqrt{\\kappa} \\left(- \\overline{\\alpha} + \\overline{\\beta}\\right)\\right) {a_{{{\\rm K.K1}}}} -  \\left(\\Delta \\left(i p_{2} - q_{2}\\right) - 2 \\chi \\left(i p_{2} - q_{2}\\right)^{2} \\left(i p_{2} + q_{2}\\right) - \\frac{\\sqrt{2} i}{4} \\sqrt{\\kappa} \\left(\\overline{\\alpha} + \\overline{\\beta}\\right)\\right) {a_{{{\\rm K.K2}}}} +  \\chi \\left(i p_{1} + q_{1}\\right)^{2} {a_{{{\\rm K.K1}}}^\\dagger} {a_{{{\\rm K.K1}}}^\\dagger} +  2 \\chi \\left(i p_{1} + q_{1}\\right) {a_{{{\\rm K.K1}}}^\\dagger} {a_{{{\\rm K.K1}}}^\\dagger} {a_{{{\\rm K.K1}}}} +  \\chi {a_{{{\\rm K.K1}}}^\\dagger} {a_{{{\\rm K.K1}}}^\\dagger} {a_{{{\\rm K.K1}}}} {a_{{{\\rm K.K1}}}} +  \\left(\\Delta - 4 \\chi \\left(i p_{1} - q_{1}\\right) \\left(i p_{1} + q_{1}\\right)\\right) {a_{{{\\rm K.K1}}}^\\dagger} {a_{{{\\rm K.K1}}}} +  2 \\chi \\left(- i p_{1} + q_{1}\\right) {a_{{{\\rm K.K1}}}^\\dagger} {a_{{{\\rm K.K1}}}} {a_{{{\\rm K.K1}}}} +  \\chi \\left(i p_{2} + q_{2}\\right)^{2} {a_{{{\\rm K.K2}}}^\\dagger} {a_{{{\\rm K.K2}}}^\\dagger} +  2 \\chi \\left(i p_{2} + q_{2}\\right) {a_{{{\\rm K.K2}}}^\\dagger} {a_{{{\\rm K.K2}}}^\\dagger} {a_{{{\\rm K.K2}}}} +  \\chi {a_{{{\\rm K.K2}}}^\\dagger} {a_{{{\\rm K.K2}}}^\\dagger} {a_{{{\\rm K.K2}}}} {a_{{{\\rm K.K2}}}} +  \\left(\\Delta - 4 \\chi \\left(i p_{2} - q_{2}\\right) \\left(i p_{2} + q_{2}\\right)\\right) {a_{{{\\rm K.K2}}}^\\dagger} {a_{{{\\rm K.K2}}}} +  2 \\chi \\left(- i p_{2} + q_{2}\\right) {a_{{{\\rm K.K2}}}^\\dagger} {a_{{{\\rm K.K2}}}} {a_{{{\\rm K.K2}}}} +  \\chi \\left(i p_{1} - q_{1}\\right)^{2} {a_{{{\\rm K.K1}}}} {a_{{{\\rm K.K1}}}} +  \\chi \\left(i p_{2} - q_{2}\\right)^{2} {a_{{{\\rm K.K2}}}} {a_{{{\\rm K.K2}}}} \\right)$"
       ],
       "metadata": {},
       "output_type": "pyout",
       "prompt_number": 580,
       "text": [
        "SLH(Matrix([[1, 0, 0, 0], [0, 1, 0, 0], [0, 0, 1, 0], [0, 0, 0, 1]]), Matrix([[OperatorPlus(ScalarTimesOperator(alpha - sqrt(2)*sqrt(kappa)*(I*p1 + q1)/2 + sqrt(2)*sqrt(kappa)*(I*p2 + q2)/2, IdentityOperator), ScalarTimesOperator(-sqrt(2)*sqrt(kappa)/2, Destroy(LocalSpace('K.K1', ''))), ScalarTimesOperator(sqrt(2)*sqrt(kappa)/2, Destroy(LocalSpace('K.K2', ''))))], [OperatorPlus(ScalarTimesOperator(beta + sqrt(2)*sqrt(kappa)*(I*p1 + q1)/2 + sqrt(2)*sqrt(kappa)*(I*p2 + q2)/2, IdentityOperator), ScalarTimesOperator(sqrt(2)*sqrt(kappa)/2, Destroy(LocalSpace('K.K1', ''))), ScalarTimesOperator(sqrt(2)*sqrt(kappa)/2, Destroy(LocalSpace('K.K2', ''))))], [OperatorPlus(ScalarTimesOperator(sqrt(eta)*(I*p2 + q2), IdentityOperator), ScalarTimesOperator(sqrt(eta), Destroy(LocalSpace('K.K2', ''))))], [OperatorPlus(ScalarTimesOperator(sqrt(eta)*(I*p1 + q1), IdentityOperator), ScalarTimesOperator(sqrt(eta), Destroy(LocalSpace('K.K1', ''))))]]), OperatorPlus(ScalarTimesOperator(-Delta*(I*p1 - q1)*(I*p1 + q1) - Delta*(I*p2 - q2)*(I*p2 + q2) + chi*(I*p1 - q1)**2*(I*p1 + q1)**2 + chi*(I*p2 - q2)**2*(I*p2 + q2)**2 - sqrt(2)*I*sqrt(kappa)*(alpha - beta)*(I*p1 - q1)/4 + sqrt(2)*I*sqrt(kappa)*(alpha + beta)*(I*p2 - q2)/4 - sqrt(2)*I*sqrt(kappa)*(I*p1 + q1)*(conjugate(alpha) - conjugate(beta))/4 + sqrt(2)*I*sqrt(kappa)*(I*p2 + q2)*(conjugate(alpha) + conjugate(beta))/4, IdentityOperator), ScalarTimesOperator(Delta*(I*p1 + q1) - 2*chi*(I*p1 - q1)*(I*p1 + q1)**2 + sqrt(2)*I*sqrt(kappa)*(alpha - beta)/4, Create(LocalSpace('K.K1', ''))), ScalarTimesOperator(Delta*(I*p2 + q2) - 2*chi*(I*p2 - q2)*(I*p2 + q2)**2 - sqrt(2)*I*sqrt(kappa)*(alpha + beta)/4, Create(LocalSpace('K.K2', ''))), ScalarTimesOperator(-Delta*(I*p1 - q1) + 2*chi*(I*p1 - q1)**2*(I*p1 + q1) + sqrt(2)*I*sqrt(kappa)*(-conjugate(alpha) + conjugate(beta))/4, Destroy(LocalSpace('K.K1', ''))), ScalarTimesOperator(-Delta*(I*p2 - q2) + 2*chi*(I*p2 - q2)**2*(I*p2 + q2) + sqrt(2)*I*sqrt(kappa)*(conjugate(alpha) + conjugate(beta))/4, Destroy(LocalSpace('K.K2', ''))), ScalarTimesOperator(chi*(I*p1 + q1)**2, OperatorTimes(Create(LocalSpace('K.K1', '')), Create(LocalSpace('K.K1', '')))), ScalarTimesOperator(2*chi*(I*p1 + q1), OperatorTimes(Create(LocalSpace('K.K1', '')), Create(LocalSpace('K.K1', '')), Destroy(LocalSpace('K.K1', '')))), ScalarTimesOperator(chi, OperatorTimes(Create(LocalSpace('K.K1', '')), Create(LocalSpace('K.K1', '')), Destroy(LocalSpace('K.K1', '')), Destroy(LocalSpace('K.K1', '')))), ScalarTimesOperator(Delta - 4*chi*(I*p1 - q1)*(I*p1 + q1), OperatorTimes(Create(LocalSpace('K.K1', '')), Destroy(LocalSpace('K.K1', '')))), ScalarTimesOperator(2*chi*(-I*p1 + q1), OperatorTimes(Create(LocalSpace('K.K1', '')), Destroy(LocalSpace('K.K1', '')), Destroy(LocalSpace('K.K1', '')))), ScalarTimesOperator(chi*(I*p2 + q2)**2, OperatorTimes(Create(LocalSpace('K.K2', '')), Create(LocalSpace('K.K2', '')))), ScalarTimesOperator(2*chi*(I*p2 + q2), OperatorTimes(Create(LocalSpace('K.K2', '')), Create(LocalSpace('K.K2', '')), Destroy(LocalSpace('K.K2', '')))), ScalarTimesOperator(chi, OperatorTimes(Create(LocalSpace('K.K2', '')), Create(LocalSpace('K.K2', '')), Destroy(LocalSpace('K.K2', '')), Destroy(LocalSpace('K.K2', '')))), ScalarTimesOperator(Delta - 4*chi*(I*p2 - q2)*(I*p2 + q2), OperatorTimes(Create(LocalSpace('K.K2', '')), Destroy(LocalSpace('K.K2', '')))), ScalarTimesOperator(2*chi*(-I*p2 + q2), OperatorTimes(Create(LocalSpace('K.K2', '')), Destroy(LocalSpace('K.K2', '')), Destroy(LocalSpace('K.K2', '')))), ScalarTimesOperator(chi*(I*p1 - q1)**2, OperatorTimes(Destroy(LocalSpace('K.K1', '')), Destroy(LocalSpace('K.K1', '')))), ScalarTimesOperator(chi*(I*p2 - q2)**2, OperatorTimes(Destroy(LocalSpace('K.K2', '')), Destroy(LocalSpace('K.K2', ''))))))"
       ]
      }
     ],
     "prompt_number": 580
    },
    {
     "cell_type": "code",
     "collapsed": false,
     "input": [
      "KSLH_in_disp.symbolic_heisenberg_eom(a1).expand().simplify_scalar()"
     ],
     "language": "python",
     "metadata": {},
     "outputs": [
      {
       "latex": [
        "$ \\left(\\Delta p_{1} - i \\Delta q_{1} + \\frac{\\sqrt{2} \\alpha}{2} \\sqrt{\\kappa} - \\frac{\\sqrt{2} \\beta}{2} \\sqrt{\\kappa} + 2 \\chi p_{1}^{3} - 2 i \\chi p_{1}^{2} q_{1} + 2 \\chi p_{1} q_{1}^{2} - 2 i \\chi q_{1}^{3} - \\frac{i p_{1}}{2} \\eta - \\frac{\\eta q_{1}}{2} - \\frac{i p_{1}}{2} \\kappa - \\frac{\\kappa q_{1}}{2}\\right) -  2 i \\chi \\left(i p_{1} + q_{1}\\right)^{2} {a_{{{\\rm K.K1}}}^\\dagger} -  \\left(\\frac{\\eta}{2} + \\frac{\\kappa}{2} + i \\left(\\Delta - 4 \\chi \\left(i p_{1} - q_{1}\\right) \\left(i p_{1} + q_{1}\\right)\\right)\\right) {a_{{{\\rm K.K1}}}} +  4 \\chi \\left(p_{1} - i q_{1}\\right) {a_{{{\\rm K.K1}}}^\\dagger} {a_{{{\\rm K.K1}}}} -  2 i \\chi {a_{{{\\rm K.K1}}}^\\dagger} {a_{{{\\rm K.K1}}}} {a_{{{\\rm K.K1}}}} +  2 i \\chi \\left(i p_{1} - q_{1}\\right) {a_{{{\\rm K.K1}}}} {a_{{{\\rm K.K1}}}}$"
       ],
       "metadata": {},
       "output_type": "pyout",
       "prompt_number": 581,
       "text": [
        "OperatorPlus(ScalarTimesOperator(Delta*p1 - I*Delta*q1 + sqrt(2)*alpha*sqrt(kappa)/2 - sqrt(2)*beta*sqrt(kappa)/2 + 2*chi*p1**3 - 2*I*chi*p1**2*q1 + 2*chi*p1*q1**2 - 2*I*chi*q1**3 - I*eta*p1/2 - eta*q1/2 - I*kappa*p1/2 - kappa*q1/2, IdentityOperator), ScalarTimesOperator(-2*I*chi*(I*p1 + q1)**2, Create(LocalSpace('K.K1', ''))), ScalarTimesOperator(-eta/2 - kappa/2 - I*(Delta - 4*chi*(I*p1 - q1)*(I*p1 + q1)), Destroy(LocalSpace('K.K1', ''))), ScalarTimesOperator(4*chi*(p1 - I*q1), OperatorTimes(Create(LocalSpace('K.K1', '')), Destroy(LocalSpace('K.K1', '')))), ScalarTimesOperator(-2*I*chi, OperatorTimes(Create(LocalSpace('K.K1', '')), Destroy(LocalSpace('K.K1', '')), Destroy(LocalSpace('K.K1', '')))), ScalarTimesOperator(2*I*chi*(I*p1 - q1), OperatorTimes(Destroy(LocalSpace('K.K1', '')), Destroy(LocalSpace('K.K1', '')))))"
       ]
      }
     ],
     "prompt_number": 581
    },
    {
     "cell_type": "markdown",
     "metadata": {},
     "source": [
      "The first term above (proportional to identity operator) can be solved algebraically to find the mean displacement. This can be VERY useful in unitarily transforming the system into a basis where the dynamics happen close to the effective vacuum state, i.e. with low photon numbers"
     ]
    },
    {
     "cell_type": "heading",
     "level": 1,
     "metadata": {},
     "source": [
      "Setting up a problem for numerical simulation with QuTiP"
     ]
    },
    {
     "cell_type": "code",
     "collapsed": false,
     "input": [
      "# suppose done with analytic work, want to now simulate system with some given observables\n",
      "# starting from SLH:\n",
      "myslh = SLH(identity_matrix(2), Matrix([sqrt(gamma), sqrt(kappa)]) * sigma, Delta * sigma.dag() * sigma).coherent_input(alpha, 0).expand()\n",
      "myslh"
     ],
     "language": "python",
     "metadata": {},
     "outputs": [
      {
       "latex": [
        "$\\left( \\begin{pmatrix} 1 & 0 \\\\ 0 & 1\\end{pmatrix}, \\begin{pmatrix}  \\alpha +  \\sqrt{\\gamma} {\\sigma_{{\\rm g},{\\rm e}}^{{{\\rm 1}}}} \\\\  \\sqrt{\\kappa} {\\sigma_{{\\rm g},{\\rm e}}^{{{\\rm 1}}}}\\end{pmatrix},  \\Delta {\\Pi_{{\\rm e}}^{{{\\rm 1}}}} -  \\frac{i \\alpha}{2} \\sqrt{\\gamma} {\\sigma_{{\\rm e},{\\rm g}}^{{{\\rm 1}}}} +  \\frac{i \\sqrt{\\gamma}}{2} \\overline{\\alpha} {\\sigma_{{\\rm g},{\\rm e}}^{{{\\rm 1}}}} \\right)$"
       ],
       "metadata": {},
       "output_type": "pyout",
       "prompt_number": 582,
       "text": [
        "SLH(Matrix([[1, 0], [0, 1]]), Matrix([[OperatorPlus(ScalarTimesOperator(alpha, IdentityOperator), ScalarTimesOperator(sqrt(gamma), LocalSigma(LocalSpace('1', ''), 'g', 'e')))], [ScalarTimesOperator(sqrt(kappa), LocalSigma(LocalSpace('1', ''), 'g', 'e'))]]), OperatorPlus(ScalarTimesOperator(Delta, LocalSigma(LocalSpace('1', ''), 'e', 'e')), ScalarTimesOperator(-I*alpha*sqrt(gamma)/2, LocalSigma(LocalSpace('1', ''), 'e', 'g')), ScalarTimesOperator(I*sqrt(gamma)*conjugate(alpha)/2, LocalSigma(LocalSpace('1', ''), 'g', 'e'))))"
       ]
      }
     ],
     "prompt_number": 582
    },
    {
     "cell_type": "code",
     "collapsed": false,
     "input": [
      "myslh.symbolic_heisenberg_eom(sigma).expand().simplify_scalar()"
     ],
     "language": "python",
     "metadata": {},
     "outputs": [
      {
       "latex": [
        "$ \\alpha \\sqrt{\\gamma} {\\Pi_{{\\rm e}}^{{{\\rm 1}}}} -  \\left(i \\Delta + \\frac{\\gamma}{2} + \\frac{\\kappa}{2}\\right) {\\sigma_{{\\rm g},{\\rm e}}^{{{\\rm 1}}}} -  \\alpha \\sqrt{\\gamma} {\\Pi_{{\\rm g}}^{{{\\rm 1}}}}$"
       ],
       "metadata": {},
       "output_type": "pyout",
       "prompt_number": 583,
       "text": [
        "OperatorPlus(ScalarTimesOperator(alpha*sqrt(gamma), LocalSigma(LocalSpace('1', ''), 'e', 'e')), ScalarTimesOperator(-I*Delta - gamma/2 - kappa/2, LocalSigma(LocalSpace('1', ''), 'g', 'e')), ScalarTimesOperator(-alpha*sqrt(gamma), LocalSigma(LocalSpace('1', ''), 'g', 'g')))"
       ]
      }
     ],
     "prompt_number": 583
    },
    {
     "cell_type": "code",
     "collapsed": false,
     "input": [
      "observables = [sigma,                   # non-hermitian --> complex expectation values.\n",
      "               sigma.dag() * sigma, \n",
      "               sigma * sigma.dag()]\n",
      "\n",
      "numerical_params = {\n",
      "    Delta: 10.,\n",
      "    gamma: 0.5,\n",
      "    kappa: 1.,\n",
      "    alpha: 5.,\n",
      "}\n",
      "\n",
      "BasisRegistry.set_basis(sigma.space, [\"e\", \"g\"])"
     ],
     "language": "python",
     "metadata": {},
     "outputs": [],
     "prompt_number": 584
    },
    {
     "cell_type": "code",
     "collapsed": false,
     "input": [
      "Hq, Lq = myslh.substitute(numerical_params).HL_to_qutip()\n",
      "observablesq = [o.to_qutip(full_space=myslh.space) for o in observables]"
     ],
     "language": "python",
     "metadata": {},
     "outputs": [],
     "prompt_number": 586
    },
    {
     "cell_type": "code",
     "collapsed": false,
     "input": [
      "display(Hq, *Lq)"
     ],
     "language": "python",
     "metadata": {},
     "outputs": [
      {
       "latex": [
        "$\\text{Quantum object: dims = [[2], [2]], shape = [2, 2], type = oper, isherm = True}\\\\[1em]\\begin{pmatrix}10.0 & -1.768j\\\\1.768j & 0.0\\\\\\end{pmatrix}$"
       ],
       "metadata": {},
       "output_type": "display_data",
       "text": [
        "Quantum object: dims = [[2], [2]], shape = [2, 2], type = oper, isherm = True\n",
        "Qobj data =\n",
        "[[ 10.+0.j           0.-1.76776695j]\n",
        " [  0.+1.76776695j   0.+0.j        ]]"
       ]
      },
      {
       "latex": [
        "$\\text{Quantum object: dims = [[2], [2]], shape = [2, 2], type = oper, isherm = False}\\\\[1em]\\begin{pmatrix}5.0 & 0.0\\\\0.707 & 5.0\\\\\\end{pmatrix}$"
       ],
       "metadata": {},
       "output_type": "display_data",
       "text": [
        "Quantum object: dims = [[2], [2]], shape = [2, 2], type = oper, isherm = False\n",
        "Qobj data =\n",
        "[[ 5.          0.        ]\n",
        " [ 0.70710678  5.        ]]"
       ]
      },
      {
       "latex": [
        "$\\text{Quantum object: dims = [[2], [2]], shape = [2, 2], type = oper, isherm = False}\\\\[1em]\\begin{pmatrix}0.0 & 0.0\\\\1.0 & 0.0\\\\\\end{pmatrix}$"
       ],
       "metadata": {},
       "output_type": "display_data",
       "text": [
        "Quantum object: dims = [[2], [2]], shape = [2, 2], type = oper, isherm = False\n",
        "Qobj data =\n",
        "[[ 0.  0.]\n",
        " [ 1.  0.]]"
       ]
      }
     ],
     "prompt_number": 587
    },
    {
     "cell_type": "code",
     "collapsed": false,
     "input": [
      "display(*observablesq)"
     ],
     "language": "python",
     "metadata": {},
     "outputs": [
      {
       "latex": [
        "$\\text{Quantum object: dims = [[2], [2]], shape = [2, 2], type = oper, isherm = False}\\\\[1em]\\begin{pmatrix}0.0 & 0.0\\\\1.0 & 0.0\\\\\\end{pmatrix}$"
       ],
       "metadata": {},
       "output_type": "display_data",
       "text": [
        "Quantum object: dims = [[2], [2]], shape = [2, 2], type = oper, isherm = False\n",
        "Qobj data =\n",
        "[[ 0.  0.]\n",
        " [ 1.  0.]]"
       ]
      },
      {
       "latex": [
        "$\\text{Quantum object: dims = [[2], [2]], shape = [2, 2], type = oper, isherm = True}\\\\[1em]\\begin{pmatrix}1.0 & 0.0\\\\0.0 & 0.0\\\\\\end{pmatrix}$"
       ],
       "metadata": {},
       "output_type": "display_data",
       "text": [
        "Quantum object: dims = [[2], [2]], shape = [2, 2], type = oper, isherm = True\n",
        "Qobj data =\n",
        "[[ 1.  0.]\n",
        " [ 0.  0.]]"
       ]
      },
      {
       "latex": [
        "$\\text{Quantum object: dims = [[2], [2]], shape = [2, 2], type = oper, isherm = True}\\\\[1em]\\begin{pmatrix}0.0 & 0.0\\\\0.0 & 1.0\\\\\\end{pmatrix}$"
       ],
       "metadata": {},
       "output_type": "display_data",
       "text": [
        "Quantum object: dims = [[2], [2]], shape = [2, 2], type = oper, isherm = True\n",
        "Qobj data =\n",
        "[[ 0.  0.]\n",
        " [ 0.  1.]]"
       ]
      }
     ],
     "prompt_number": 588
    },
    {
     "cell_type": "heading",
     "level": 2,
     "metadata": {},
     "source": [
      "Numpy/Scipy/QuTiP"
     ]
    },
    {
     "cell_type": "code",
     "collapsed": false,
     "input": [
      "# initializing numpy arrays\n",
      "z = zeros(10)\n",
      "l = linspace(0, 10, 101)\n",
      "ar = array([1,2,5])\n",
      "z, l, ar"
     ],
     "language": "python",
     "metadata": {},
     "outputs": [
      {
       "metadata": {},
       "output_type": "pyout",
       "prompt_number": 589,
       "text": [
        "(array([ 0.,  0.,  0.,  0.,  0.,  0.,  0.,  0.,  0.,  0.]),\n",
        " array([  0. ,   0.1,   0.2,   0.3,   0.4,   0.5,   0.6,   0.7,   0.8,\n",
        "          0.9,   1. ,   1.1,   1.2,   1.3,   1.4,   1.5,   1.6,   1.7,\n",
        "          1.8,   1.9,   2. ,   2.1,   2.2,   2.3,   2.4,   2.5,   2.6,\n",
        "          2.7,   2.8,   2.9,   3. ,   3.1,   3.2,   3.3,   3.4,   3.5,\n",
        "          3.6,   3.7,   3.8,   3.9,   4. ,   4.1,   4.2,   4.3,   4.4,\n",
        "          4.5,   4.6,   4.7,   4.8,   4.9,   5. ,   5.1,   5.2,   5.3,\n",
        "          5.4,   5.5,   5.6,   5.7,   5.8,   5.9,   6. ,   6.1,   6.2,\n",
        "          6.3,   6.4,   6.5,   6.6,   6.7,   6.8,   6.9,   7. ,   7.1,\n",
        "          7.2,   7.3,   7.4,   7.5,   7.6,   7.7,   7.8,   7.9,   8. ,\n",
        "          8.1,   8.2,   8.3,   8.4,   8.5,   8.6,   8.7,   8.8,   8.9,\n",
        "          9. ,   9.1,   9.2,   9.3,   9.4,   9.5,   9.6,   9.7,   9.8,\n",
        "          9.9,  10. ]),\n",
        " array([1, 2, 5]))"
       ]
      }
     ],
     "prompt_number": 589
    },
    {
     "cell_type": "code",
     "collapsed": false,
     "input": [
      "%pylab inline"
     ],
     "language": "python",
     "metadata": {},
     "outputs": [],
     "prompt_number": 592
    },
    {
     "cell_type": "code",
     "collapsed": false,
     "input": [
      "# plotting\n",
      "plot(l, np.sin(l))\n"
     ],
     "language": "python",
     "metadata": {},
     "outputs": [
      {
       "metadata": {},
       "output_type": "pyout",
       "prompt_number": 590,
       "text": [
        "[<matplotlib.lines.Line2D at 0x110c9aa10>]"
       ]
      },
      {
       "metadata": {},
       "output_type": "display_data",
       "png": "[encoded data removed]",
       "text": [
        "<matplotlib.figure.Figure at 0x110c47b90>"
       ]
      }
     ],
     "prompt_number": 590
    },
    {
     "cell_type": "code",
     "collapsed": false,
     "input": [
      "import qutip\n",
      "\n",
      "tlist = linspace(0, 10., 201)\n",
      "\n",
      "rho0 = qutip.basis(sigma.space.dimension, 0)\n",
      "\n",
      "data = qutip.mesolve(Hq, rho0, tlist, Lq, observablesq)"
     ],
     "language": "python",
     "metadata": {},
     "outputs": [],
     "prompt_number": 593
    },
    {
     "cell_type": "code",
     "collapsed": false,
     "input": [
      "plot(tlist, data.expect[0].real, label=((sigma+sigma.dag())/2)._repr_latex_())\n",
      "plot(tlist, data.expect[0].imag,label=((sigma-sigma.dag())/2/I)._repr_latex_())\n",
      "plot(tlist, data.expect[1], label=observables[1]._repr_latex_())\n",
      "plot(tlist, data.expect[2], label=observables[2]._repr_latex_())\n",
      "legend()\n",
      "xlabel(\"Time $t\\;[\\kappa^{-1}]$\")"
     ],
     "language": "python",
     "metadata": {},
     "outputs": [
      {
       "metadata": {},
       "output_type": "pyout",
       "prompt_number": 594,
       "text": [
        "<matplotlib.text.Text at 0x1120cb5d0>"
       ]
      },
      {
       "metadata": {},
       "output_type": "display_data",
       "png": "[encoded data removed]",
       "text": [
        "<matplotlib.figure.Figure at 0x1112229d0>"
       ]
      }
     ],
     "prompt_number": 594
    },
    {
     "cell_type": "heading",
     "level": 2,
     "metadata": {},
     "source": [
      "A time dependent problem"
     ]
    },
    {
     "cell_type": "code",
     "collapsed": false,
     "input": [
      "data_td = qutip.mesolve([[Hq, \"cos(t)\"]], rho0, tlist, Lq, observablesq)\n",
      "# artificial problem, the whole Hamiltonian is periodically modulated"
     ],
     "language": "python",
     "metadata": {},
     "outputs": [],
     "prompt_number": 595
    },
    {
     "cell_type": "code",
     "collapsed": false,
     "input": [
      "plot(tlist, data_td.expect[0].real, label=((sigma+sigma.dag())/2)._repr_latex_())\n",
      "plot(tlist, data_td.expect[0].imag,label=((sigma-sigma.dag())/2/I)._repr_latex_())\n",
      "plot(tlist, data_td.expect[1], label=observables[1]._repr_latex_())\n",
      "plot(tlist, data_td.expect[2], label=observables[2]._repr_latex_())\n",
      "legend()\n",
      "xlabel(\"Time $t\\;[\\kappa^{-1}]$\")"
     ],
     "language": "python",
     "metadata": {},
     "outputs": [
      {
       "metadata": {},
       "output_type": "pyout",
       "prompt_number": 596,
       "text": [
        "<matplotlib.text.Text at 0x111c89090>"
       ]
      },
      {
       "metadata": {},
       "output_type": "display_data",
       "png": "[encoded data removed]",
       "text": [
        "<matplotlib.figure.Figure at 0x111b33710>"
       ]
      }
     ],
     "prompt_number": 596
    },
    {
     "cell_type": "heading",
     "level": 3,
     "metadata": {},
     "source": [
      "Quick Hack: Automatically setting up time dependent problems, the power of symbolic algebra"
     ]
    },
    {
     "cell_type": "code",
     "collapsed": false,
     "input": [
      "def time_dependent_to_qutip(operator, full_space=None):\n",
      "    t = symbols(\"t\", real=True)\n",
      "    import re\n",
      "    if t in operator.all_symbols():\n",
      "        operator = operator.expand()\n",
      "        if isinstance(operator, OperatorPlus):\n",
      "            return [time_dependent_to_qutip(o, full_space) for o in operator.operands]\n",
      "        elif isinstance(operator, ScalarTimesOperator):\n",
      "            return [operator.term.to_qutip(full_space), \n",
      "                    re.sub(\"I\", \"(1.0j)\", str(operator.coeff))]    # need a bit of a hack to replace imaginary unit\n",
      "    return [operator.to_qutip(full_space), \"1\"]\n",
      "        "
     ],
     "language": "python",
     "metadata": {},
     "outputs": [],
     "prompt_number": 602
    },
    {
     "cell_type": "code",
     "collapsed": false,
     "input": [
      "H0 = myslh.H\n",
      "H0"
     ],
     "language": "python",
     "metadata": {},
     "outputs": [
      {
       "latex": [
        "$ \\Delta {\\Pi_{{\\rm e}}^{{{\\rm 1}}}} -  \\frac{i \\alpha}{2} \\sqrt{\\gamma} {\\sigma_{{\\rm e},{\\rm g}}^{{{\\rm 1}}}} +  \\frac{i \\sqrt{\\gamma}}{2} \\overline{\\alpha} {\\sigma_{{\\rm g},{\\rm e}}^{{{\\rm 1}}}}$"
       ],
       "metadata": {},
       "output_type": "pyout",
       "prompt_number": 597,
       "text": [
        "OperatorPlus(ScalarTimesOperator(Delta, LocalSigma(LocalSpace('1', ''), 'e', 'e')), ScalarTimesOperator(-I*alpha*sqrt(gamma)/2, LocalSigma(LocalSpace('1', ''), 'e', 'g')), ScalarTimesOperator(I*sqrt(gamma)*conjugate(alpha)/2, LocalSigma(LocalSpace('1', ''), 'g', 'e')))"
       ]
      }
     ],
     "prompt_number": 597
    },
    {
     "cell_type": "code",
     "collapsed": false,
     "input": [
      "t = symbols(\"t\", real=True)\n",
      "H1 = H0 * cos(t)\n",
      "H1"
     ],
     "language": "python",
     "metadata": {},
     "outputs": [
      {
       "latex": [
        "$ \\cos{\\left (t \\right )} \\left( \\Delta {\\Pi_{{\\rm e}}^{{{\\rm 1}}}} -  \\frac{i \\alpha}{2} \\sqrt{\\gamma} {\\sigma_{{\\rm e},{\\rm g}}^{{{\\rm 1}}}} +  \\frac{i \\sqrt{\\gamma}}{2} \\overline{\\alpha} {\\sigma_{{\\rm g},{\\rm e}}^{{{\\rm 1}}}}\\right)$"
       ],
       "metadata": {},
       "output_type": "pyout",
       "prompt_number": 603,
       "text": [
        "ScalarTimesOperator(cos(t), OperatorPlus(ScalarTimesOperator(Delta, LocalSigma(LocalSpace('1', ''), 'e', 'e')), ScalarTimesOperator(-I*alpha*sqrt(gamma)/2, LocalSigma(LocalSpace('1', ''), 'e', 'g')), ScalarTimesOperator(I*sqrt(gamma)*conjugate(alpha)/2, LocalSigma(LocalSpace('1', ''), 'g', 'e'))))"
       ]
      }
     ],
     "prompt_number": 603
    },
    {
     "cell_type": "code",
     "collapsed": false,
     "input": [
      "Hq2 = time_dependent_to_qutip(H1.substitute(numerical_params))\n",
      "display(*Hq2)"
     ],
     "language": "python",
     "metadata": {},
     "outputs": [
      {
       "metadata": {},
       "output_type": "display_data",
       "text": [
        "[Quantum object: dims = [[2], [2]], shape = [2, 2], type = oper, isherm = True\n",
        " Qobj data =\n",
        " [[ 1.  0.]\n",
        "  [ 0.  0.]], '10.0*cos(t)']"
       ]
      },
      {
       "metadata": {},
       "output_type": "display_data",
       "text": [
        "[Quantum object: dims = [[2], [2]], shape = [2, 2], type = oper, isherm = False\n",
        " Qobj data =\n",
        " [[ 0.  1.]\n",
        "  [ 0.  0.]], '-1.76776695296637*(1.0j)*cos(t)']"
       ]
      },
      {
       "metadata": {},
       "output_type": "display_data",
       "text": [
        "[Quantum object: dims = [[2], [2]], shape = [2, 2], type = oper, isherm = False\n",
        " Qobj data =\n",
        " [[ 0.  0.]\n",
        "  [ 1.  0.]], '1.76776695296637*(1.0j)*cos(t)']"
       ]
      }
     ],
     "prompt_number": 604
    },
    {
     "cell_type": "code",
     "collapsed": false,
     "input": [
      "data_td2 = qutip.mesolve(Hq2, rho0, tlist, Lq, observablesq)\n"
     ],
     "language": "python",
     "metadata": {},
     "outputs": [],
     "prompt_number": 605
    },
    {
     "cell_type": "code",
     "collapsed": false,
     "input": [
      "plot(tlist, data_td2.expect[0].real, label=((sigma+sigma.dag())/2)._repr_latex_())\n",
      "plot(tlist, data_td2.expect[0].imag,label=((sigma-sigma.dag())/2/I)._repr_latex_())\n",
      "plot(tlist, data_td2.expect[1], label=observables[1]._repr_latex_())\n",
      "plot(tlist, data_td2.expect[2], label=observables[2]._repr_latex_())\n",
      "legend()\n",
      "xlabel(\"Time $t\\;[\\kappa^{-1}]$\")"
     ],
     "language": "python",
     "metadata": {},
     "outputs": [
      {
       "metadata": {},
       "output_type": "pyout",
       "prompt_number": 606,
       "text": [
        "<matplotlib.text.Text at 0x1112633d0>"
       ]
      },
      {
       "metadata": {},
       "output_type": "display_data",
       "png": "[encoded data removed]",
       "text": [
        "<matplotlib.figure.Figure at 0x110c510d0>"
       ]
      }
     ],
     "prompt_number": 606
    },
    {
     "cell_type": "markdown",
     "metadata": {},
     "source": [
      "# Planned future features\n",
      "\n",
      "* Semi-automatic adiabatic model reduction (cf Bouten, van Handel, Silberfarb) - *Have working prototype*\n",
      "* Semi-classical SDEs for nonlinear optical feedback networks - *Have multiple working codebases, needs integration*\n",
      "* Tools for automatic linearization, linear stability analysis, transfer functions, squeezing spectra - *Have many such tools, needs integration*\n",
      "* Simple widget UI for model parameter analysis - *Have working prototype*\n",
      "* Schematic capture in the notebook - *Very basic working prototype*\n",
      "* Converting Operators not to sparse matrices but to fast numerical kernels (to run on GPUs or CPUs) - *Very early stage work*"
     ]
    },
    {
     "cell_type": "heading",
     "level": 1,
     "metadata": {},
     "source": [
      "Interactive Session/Q&A/Your ideas for additional features"
     ]
    },
    {
     "cell_type": "code",
     "collapsed": false,
     "input": [
      "SLH.concatenate_slh??"
     ],
     "language": "python",
     "metadata": {},
     "outputs": [],
     "prompt_number": 614
    },
    {
     "cell_type": "code",
     "collapsed": false,
     "input": [
      "ImAdjoint?"
     ],
     "language": "python",
     "metadata": {},
     "outputs": [],
     "prompt_number": 610
    },
    {
     "cell_type": "code",
     "collapsed": false,
     "input": [],
     "language": "python",
     "metadata": {},
     "outputs": []
    }
   ],
   "metadata": {}
  }
 ]
}